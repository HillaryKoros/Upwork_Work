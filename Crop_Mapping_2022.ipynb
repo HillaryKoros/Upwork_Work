{
  "cells": [
    {
      "cell_type": "markdown",
      "metadata": {
        "id": "kiPmd4LAgSBR"
      },
      "source": [
        "[![image](https://colab.research.google.com/assets/colab-badge.svg)](https://colab.research.google.com/github/gee-community/geemap/blob/master/examples/workshops/Crop_Mapping_2022.ipynb)\n",
        "[![image](https://mybinder.org/badge_logo.svg)](https://mybinder.org/v2/gh/gee-community/geemap/master?urlpath=lab%2Ftree%2Fexamples%2Fworkshops)"
      ],
      "id": "kiPmd4LAgSBR"
    },
    {
      "cell_type": "markdown",
      "metadata": {
        "id": "aef8_1GqgSBV"
      },
      "source": [
        "**Cropland mapping with Google Earth Engine and geemap**\n",
        "\n",
        "Useful links\n",
        "\n",
        "- [Google Earth Engine](https://earthengine.google.com/)\n",
        "- [Sign up for an Earth Engine account](https://earthengine.google.com/signup/)\n",
        "- [Awesome GEE Community Datasets](https://samapriya.github.io/awesome-gee-community-datasets)\n",
        "- [Geemap website](https://geemap.org/)\n",
        "- [Geemap book](https://book.geemap.org/)\n",
        "- [Geemap YouTube videos](https://youtube.com/@giswqs)"
      ],
      "id": "aef8_1GqgSBV"
    },
    {
      "cell_type": "code",
      "execution_count": null,
      "metadata": {
        "id": "r7346I2FgSBV"
      },
      "outputs": [],
      "source": [
        "# !pip install geemap"
      ],
      "id": "r7346I2FgSBV"
    },
    {
      "cell_type": "markdown",
      "metadata": {
        "id": "pCzSEnH_gSBX"
      },
      "source": [
        "## Import libraries"
      ],
      "id": "pCzSEnH_gSBX"
    },
    {
      "cell_type": "code",
      "execution_count": null,
      "metadata": {
        "id": "YTSb0upngSBX"
      },
      "outputs": [],
      "source": [
        "import ee\n",
        "import geemap"
      ],
      "id": "YTSb0upngSBX"
    },
    {
      "cell_type": "markdown",
      "metadata": {
        "id": "ZwNZzEq3gSBX"
      },
      "source": [
        "## ESA WordCover\n",
        "\n",
        "The European Space Agency (ESA) WorldCover 10 m 2020 product provides a global land cover map for 2020 at 10 m resolution based on Sentinel-1 and Sentinel-2 data. The WorldCover product comes with 11 land cover classes and has been generated in the framework of the ESA WorldCover project, part of the 5th Earth Observation Envelope Programme (EOEP-5) of the European Space Agency.\n",
        "\n",
        "- [ESA WorldCover website](https://esa-worldcover.org/)\n",
        "- [EAS WroldCover in the Earth Engine Data Catalog](https://developers.google.com/earth-engine/datasets/catalog/ESA_WorldCover_v100)\n",
        "- [User Manual and Validation Report](https://esa-worldcover.org/en/data-access)"
      ],
      "id": "ZwNZzEq3gSBX"
    },
    {
      "cell_type": "markdown",
      "metadata": {
        "id": "EYw2pVDAgSBY"
      },
      "source": [
        "### Using Web Map Services\n",
        "\n",
        "The ESA WorldCover product can also be used within other websites or GIS clients by 'Web Map Services'. These services provide a direct link to the cached images and are the best option if you simply want to map the data and produce cartographic products. They are not suitable for analysis as the data are represented only as RGB images.\n",
        "\n",
        "- WMTS: https://services.terrascope.be/wmts/v2\n",
        "- WMS: https://services.terrascope.be/wms/v2\n",
        "- Layers: WORLDCOVER_2020_MAP, WORLDCOVER_2020_S2_FCC, WORLDCOVER_2020_S2_TCC"
      ],
      "id": "EYw2pVDAgSBY"
    },
    {
      "cell_type": "code",
      "execution_count": null,
      "metadata": {
        "id": "R9HvhagxgSBY"
      },
      "outputs": [],
      "source": [
        "Map = geemap.Map()\n",
        "\n",
        "esa_wms = 'https://services.terrascope.be/wms/v2'  # The WMS URL\n",
        "tcc_layer = 'WORLDCOVER_2020_S2_TCC'  # The true color composite imagery\n",
        "fcc_layer = 'WORLDCOVER_2020_S2_FCC'  # The false color composite imagery\n",
        "map_layer = 'WORLDCOVER_2020_MAP'  # The land cover classification map\n",
        "\n",
        "Map.add_wms_layer(esa_wms, layers=tcc_layer, name='True Color', attribution='ESA')\n",
        "Map.add_wms_layer(esa_wms, layers=fcc_layer, name='False Color', attribution='ESA')\n",
        "Map.add_wms_layer(esa_wms, layers=map_layer, name='Classification', attribution='ESA')\n",
        "\n",
        "Map.add_legend(title='ESA Land Cover', builtin_legend='ESA_WorldCover')\n",
        "Map"
      ],
      "id": "R9HvhagxgSBY"
    },
    {
      "cell_type": "markdown",
      "metadata": {
        "id": "0eU7U6A0gSBZ"
      },
      "source": [
        "### Using Earth Engine\n",
        "\n",
        "- [EAS WroldCover in the Earth Engine Data Catalog](https://developers.google.com/earth-engine/datasets/catalog/ESA_WorldCover_v100)"
      ],
      "id": "0eU7U6A0gSBZ"
    },
    {
      "cell_type": "code",
      "execution_count": null,
      "metadata": {
        "id": "apsX83HAgSBZ"
      },
      "outputs": [],
      "source": [
        "Map = geemap.Map()\n",
        "Map.add_basemap('HYBRID')\n",
        "\n",
        "esa = ee.ImageCollection(\"ESA/WorldCover/v100\").first()\n",
        "esa_vis = {'bands': ['Map']}\n",
        "\n",
        "Map.addLayer(esa, esa_vis, \"ESA Land Cover\")\n",
        "Map.add_legend(title=\"ESA Land Cover\", builtin_legend='ESA_WorldCover')\n",
        "\n",
        "Map"
      ],
      "id": "apsX83HAgSBZ"
    },
    {
      "cell_type": "markdown",
      "metadata": {
        "id": "nDbyMYFtgSBa"
      },
      "source": [
        "### Creating charts"
      ],
      "id": "nDbyMYFtgSBa"
    },
    {
      "cell_type": "code",
      "execution_count": null,
      "metadata": {
        "id": "HyFEZrWQgSBa"
      },
      "outputs": [],
      "source": [
        "histogram = geemap.image_histogram(\n",
        "    esa, scale=1000, x_label='Land Cover Type', y_label='Area (km2)'\n",
        ")\n",
        "histogram"
      ],
      "id": "HyFEZrWQgSBa"
    },
    {
      "cell_type": "code",
      "execution_count": null,
      "metadata": {
        "id": "QpSUo2qzgSBa"
      },
      "outputs": [],
      "source": [
        "df = geemap.image_histogram(esa, scale=1000, return_df=True)\n",
        "df"
      ],
      "id": "QpSUo2qzgSBa"
    },
    {
      "cell_type": "code",
      "execution_count": null,
      "metadata": {
        "id": "Kui1Wt5kgSBb"
      },
      "outputs": [],
      "source": [
        "esa_labels = list(geemap.builtin_legends['ESA_WorldCover'].keys())\n",
        "esa_labels"
      ],
      "id": "Kui1Wt5kgSBb"
    },
    {
      "cell_type": "code",
      "execution_count": null,
      "metadata": {
        "id": "CdsTXDyogSBb"
      },
      "outputs": [],
      "source": [
        "df['label'] = esa_labels\n",
        "df"
      ],
      "id": "CdsTXDyogSBb"
    },
    {
      "cell_type": "code",
      "execution_count": null,
      "metadata": {
        "id": "lR0wlny8gSBb"
      },
      "outputs": [],
      "source": [
        "round(df['value'].sum() / 1e6, 2)"
      ],
      "id": "lR0wlny8gSBb"
    },
    {
      "cell_type": "code",
      "execution_count": null,
      "metadata": {
        "id": "l2XYAgXNgSBb"
      },
      "outputs": [],
      "source": [
        "geemap.bar_chart(\n",
        "    df, x='label', y='value', x_label='Land Cover Type', y_label='Area (km2)'\n",
        ")"
      ],
      "id": "l2XYAgXNgSBb"
    },
    {
      "cell_type": "code",
      "execution_count": null,
      "metadata": {
        "id": "I-i889urgSBb"
      },
      "outputs": [],
      "source": [
        "geemap.pie_chart(df, names='label', values='value', height=500)"
      ],
      "id": "I-i889urgSBb"
    },
    {
      "cell_type": "markdown",
      "metadata": {
        "id": "P6GoJTBSgSBc"
      },
      "source": [
        "### Adding Administrative Boundaries"
      ],
      "id": "P6GoJTBSgSBc"
    },
    {
      "cell_type": "code",
      "execution_count": null,
      "metadata": {
        "id": "e5ofsY4xgSBc"
      },
      "outputs": [],
      "source": [
        "countries = ee.FeatureCollection(geemap.examples.get_ee_path('countries'))\n",
        "africa = countries.filter(ee.Filter.eq('CONTINENT', 'Africa'))\n",
        "style = {'fillColor': '00000000'}\n",
        "Map.addLayer(countries.style(**style), {}, 'Countries', False)\n",
        "Map.addLayer(africa.style(**style), {}, 'Africa')\n",
        "Map.centerObject(africa)\n",
        "Map"
      ],
      "id": "e5ofsY4xgSBc"
    },
    {
      "cell_type": "markdown",
      "metadata": {
        "id": "_6YK2DHmgSBc"
      },
      "source": [
        "### Extracting Croplands"
      ],
      "id": "_6YK2DHmgSBc"
    },
    {
      "cell_type": "code",
      "execution_count": null,
      "metadata": {
        "id": "oHGp5dyIgSBc"
      },
      "outputs": [],
      "source": [
        "cropland = esa.eq(40).clipToCollection(africa).selfMask()\n",
        "Map.addLayer(cropland, {'palette': ['f096ff']}, 'Cropland')\n",
        "Map.show_layer(name='ESA Land Cover', show=False)"
      ],
      "id": "oHGp5dyIgSBc"
    },
    {
      "cell_type": "markdown",
      "metadata": {
        "id": "lCpRqlmxgSBc"
      },
      "source": [
        "### Zonal Statistics"
      ],
      "id": "lCpRqlmxgSBc"
    },
    {
      "cell_type": "code",
      "execution_count": null,
      "metadata": {
        "id": "gqQfIu8wgSBc"
      },
      "outputs": [],
      "source": [
        "geemap.zonal_stats(\n",
        "    cropland, africa, 'esa_cropland.csv', statistics_type='SUM', scale=1000\n",
        ")"
      ],
      "id": "gqQfIu8wgSBc"
    },
    {
      "cell_type": "code",
      "execution_count": null,
      "metadata": {
        "id": "6tE8FNFBgSBc"
      },
      "outputs": [],
      "source": [
        "df = geemap.csv_to_df('esa_cropland.csv')\n",
        "df.head()"
      ],
      "id": "6tE8FNFBgSBc"
    },
    {
      "cell_type": "code",
      "execution_count": null,
      "metadata": {
        "id": "SHAof80dgSBc"
      },
      "outputs": [],
      "source": [
        "geemap.bar_chart(\n",
        "    df, x='NAME', y='sum', max_rows=30, x_label='Country', y_label='Area (km2)'\n",
        ")"
      ],
      "id": "SHAof80dgSBc"
    },
    {
      "cell_type": "code",
      "execution_count": null,
      "metadata": {
        "id": "25pkLCuVgSBd"
      },
      "outputs": [],
      "source": [
        "geemap.pie_chart(df, names='NAME', values='sum', max_rows=20, height=500)"
      ],
      "id": "25pkLCuVgSBd"
    },
    {
      "cell_type": "markdown",
      "metadata": {
        "id": "bpkn6I7tgSBd"
      },
      "source": [
        "## ESRI GLobal Land Cover\n",
        "\n",
        "The ESRI GLobal Land Cover dataset is a global map of land use/land cover (LULC) derived from ESA Sentinel-2 imagery at 10m resolution. Each year is generated from Impact Observatory’s deep learning AI land classification model used a massive training dataset of billions of human-labeled image pixels developed by the National Geographic Society. The global maps were produced by applying this model to the Sentinel-2 scene collection on Microsoft’s Planetary Computer, processing over 400,000 Earth observations per year.\n",
        "\n",
        "- https://livingatlas.arcgis.com/landcover/\n",
        "- https://www.arcgis.com/home/item.html?id=d3da5dd386d140cf93fc9ecbf8da5e31\n",
        "- https://samapriya.github.io/awesome-gee-community-datasets/projects/S2TSLULC/"
      ],
      "id": "bpkn6I7tgSBd"
    },
    {
      "cell_type": "markdown",
      "metadata": {
        "id": "qTB6PsXegSBd"
      },
      "source": [
        "### Using Awesome GEE Community Datasets"
      ],
      "id": "qTB6PsXegSBd"
    },
    {
      "cell_type": "code",
      "execution_count": null,
      "metadata": {
        "id": "Ze2ncL0WgSBd"
      },
      "outputs": [],
      "source": [
        "Map = geemap.Map()\n",
        "Map.add_basemap('HYBRID')\n",
        "\n",
        "esri = ee.ImageCollection(\n",
        "    'projects/sat-io/open-datasets/landcover/ESRI_Global-LULC_10m_TS'\n",
        ")\n",
        "\n",
        "esri_2017 = esri.filterDate('2017-01-01', '2017-12-31').mosaic()\n",
        "esri_2018 = esri.filterDate('2018-01-01', '2018-12-31').mosaic()\n",
        "esri_2019 = esri.filterDate('2019-01-01', '2019-12-31').mosaic()\n",
        "esri_2020 = esri.filterDate('2020-01-01', '2020-12-31').mosaic()\n",
        "esri_2021 = esri.filterDate('2021-01-01', '2021-12-31').mosaic()\n",
        "\n",
        "esri_vis = {'min': 1, 'max': 11, 'palette': 'esri_lulc'}\n",
        "\n",
        "Map.addLayer(esri_2017, esri_vis, 'ESRI LULC 2017')\n",
        "Map.addLayer(esri_2018, esri_vis, 'ESRI LULC 2018')\n",
        "Map.addLayer(esri_2019, esri_vis, 'ESRI LULC 2019')\n",
        "Map.addLayer(esri_2020, esri_vis, 'ESRI LULC 2020')\n",
        "Map.addLayer(esri_2021, esri_vis, 'ESRI LULC 2021')\n",
        "\n",
        "Map.add_legend(title='ESRI Land Cover', builtin_legend='ESRI_LandCover_TS')\n",
        "Map"
      ],
      "id": "Ze2ncL0WgSBd"
    },
    {
      "cell_type": "markdown",
      "metadata": {
        "id": "GEfWYRUJgSBd"
      },
      "source": [
        "### Using Timeseries Inspector"
      ],
      "id": "GEfWYRUJgSBd"
    },
    {
      "cell_type": "code",
      "execution_count": null,
      "metadata": {
        "id": "TdrgSSLBgSBd"
      },
      "outputs": [],
      "source": [
        "images = ee.List([esri_2017, esri_2018, esri_2019, esri_2020, esri_2021])\n",
        "collection = ee.ImageCollection.fromImages(images)"
      ],
      "id": "TdrgSSLBgSBd"
    },
    {
      "cell_type": "code",
      "execution_count": null,
      "metadata": {
        "id": "IO93m5A4gSBe"
      },
      "outputs": [],
      "source": [
        "years = [str(year) for year in range(2017, 2022)]\n",
        "years"
      ],
      "id": "IO93m5A4gSBe"
    },
    {
      "cell_type": "code",
      "execution_count": null,
      "metadata": {
        "id": "vBvSvqwEgSBe"
      },
      "outputs": [],
      "source": [
        "Map = geemap.Map()\n",
        "Map.ts_inspector(collection, years, esri_vis, width='80px')\n",
        "Map.add_legend(title='ESRI Land Cover', builtin_legend='ESRI_LandCover_TS')\n",
        "Map"
      ],
      "id": "vBvSvqwEgSBe"
    },
    {
      "cell_type": "markdown",
      "metadata": {
        "id": "7mMq4jnJgSBe"
      },
      "source": [
        "### Extracting Croplands"
      ],
      "id": "7mMq4jnJgSBe"
    },
    {
      "cell_type": "code",
      "execution_count": null,
      "metadata": {
        "id": "ObrnmGOVgSBe"
      },
      "outputs": [],
      "source": [
        "countries = ee.FeatureCollection(geemap.examples.get_ee_path('countries'))\n",
        "africa = countries.filter(ee.Filter.eq('CONTINENT', 'Africa'))"
      ],
      "id": "ObrnmGOVgSBe"
    },
    {
      "cell_type": "code",
      "execution_count": null,
      "metadata": {
        "id": "YngNmCMcgSBe"
      },
      "outputs": [],
      "source": [
        "cropland_col = collection.map(lambda img: img.eq(5).clipToCollection(africa).selfMask())\n",
        "cropland_ts = cropland_col.toBands().rename(years)"
      ],
      "id": "YngNmCMcgSBe"
    },
    {
      "cell_type": "code",
      "execution_count": null,
      "metadata": {
        "id": "R-cLA5cxgSBe"
      },
      "outputs": [],
      "source": [
        "Map = geemap.Map()\n",
        "\n",
        "style = {'fillColor': '00000000'}\n",
        "Map.addLayer(cropland_col.first(), {'palette': ['#ab6c28']}, 'first')\n",
        "Map.addLayer(countries.style(**style), {}, 'Countries', False)\n",
        "Map.addLayer(africa.style(**style), {}, 'Africa')\n",
        "Map.centerObject(africa)\n",
        "\n",
        "Map"
      ],
      "id": "R-cLA5cxgSBe"
    },
    {
      "cell_type": "code",
      "execution_count": null,
      "metadata": {
        "id": "OxxLOPMngSBe"
      },
      "outputs": [],
      "source": [
        "cropland_ts.bandNames().getInfo()"
      ],
      "id": "OxxLOPMngSBe"
    },
    {
      "cell_type": "markdown",
      "metadata": {
        "id": "UTRAoCzrgSBi"
      },
      "source": [
        "### Zonal Statistics"
      ],
      "id": "UTRAoCzrgSBi"
    },
    {
      "cell_type": "code",
      "execution_count": null,
      "metadata": {
        "id": "415vnhQBgSBj"
      },
      "outputs": [],
      "source": [
        "geemap.zonal_stats(\n",
        "    cropland_ts, africa, 'esri_cropland.csv', statistics_type='SUM', scale=1000\n",
        ")"
      ],
      "id": "415vnhQBgSBj"
    },
    {
      "cell_type": "code",
      "execution_count": null,
      "metadata": {
        "id": "Xy3Swm-GgSBj"
      },
      "outputs": [],
      "source": [
        "df = geemap.csv_to_df('esri_cropland.csv')\n",
        "df.head()"
      ],
      "id": "Xy3Swm-GgSBj"
    },
    {
      "cell_type": "code",
      "execution_count": null,
      "metadata": {
        "id": "Oyz2DjR-gSBj"
      },
      "outputs": [],
      "source": [
        "geemap.bar_chart(df, x='NAME', y=years, max_rows=20, legend_title='Year')"
      ],
      "id": "Oyz2DjR-gSBj"
    },
    {
      "cell_type": "code",
      "execution_count": null,
      "metadata": {
        "id": "A-oQvawdgSBj"
      },
      "outputs": [],
      "source": [
        "geemap.pie_chart(df, names='NAME', values='2020', max_rows=20, height=500)"
      ],
      "id": "A-oQvawdgSBj"
    },
    {
      "cell_type": "markdown",
      "metadata": {
        "id": "Yi3vJiUXgSBj"
      },
      "source": [
        "### Analyzing Cropland Gain and Loss"
      ],
      "id": "Yi3vJiUXgSBj"
    },
    {
      "cell_type": "code",
      "execution_count": null,
      "metadata": {
        "id": "x-XHuJI5gSBj"
      },
      "outputs": [],
      "source": [
        "Map = geemap.Map()\n",
        "Map.add_basemap('HYBRID')\n",
        "\n",
        "cropland_2017 = esri_2017.eq(5).selfMask()\n",
        "cropland_2021 = esri_2021.eq(5).selfMask()\n",
        "\n",
        "cropland_gain = esri_2017.neq(5).And(esri_2021.eq(5)).selfMask()\n",
        "cropland_loss = esri_2017.eq(5).And(esri_2021.neq(5)).selfMask()\n",
        "\n",
        "Map.addLayer(cropland_2017, {'palette': 'brown'}, 'Cropland 2017', False)\n",
        "Map.addLayer(cropland_2021, {'palette': 'cyan'}, 'Cropland 2021', False)\n",
        "\n",
        "Map.addLayer(cropland_gain, {'palette': 'yellow'}, 'Cropland gain')\n",
        "Map.addLayer(cropland_loss, {'palette': 'red'}, 'Cropland loss')\n",
        "Map"
      ],
      "id": "x-XHuJI5gSBj"
    },
    {
      "cell_type": "code",
      "execution_count": null,
      "metadata": {
        "id": "Dq_tKo0kgSBj"
      },
      "outputs": [],
      "source": [
        "geemap.zonal_stats(\n",
        "    cropland_gain,\n",
        "    countries,\n",
        "    'esri_cropland_gain.csv',\n",
        "    statistics_type='SUM',\n",
        "    scale=1000,\n",
        ")"
      ],
      "id": "Dq_tKo0kgSBj"
    },
    {
      "cell_type": "code",
      "execution_count": null,
      "metadata": {
        "id": "nVuLop_fgSBk"
      },
      "outputs": [],
      "source": [
        "df = geemap.csv_to_df('esri_cropland_gain.csv')\n",
        "df.head()"
      ],
      "id": "nVuLop_fgSBk"
    },
    {
      "cell_type": "code",
      "execution_count": null,
      "metadata": {
        "id": "PqAyZaESgSBk"
      },
      "outputs": [],
      "source": [
        "geemap.bar_chart(\n",
        "    df,\n",
        "    x='NAME',\n",
        "    y='sum',\n",
        "    max_rows=30,\n",
        "    x_label='Country',\n",
        "    y_label='Area (km2)',\n",
        "    title='Cropland Gain',\n",
        ")"
      ],
      "id": "PqAyZaESgSBk"
    },
    {
      "cell_type": "code",
      "execution_count": null,
      "metadata": {
        "id": "JSsGDiT9gSBk"
      },
      "outputs": [],
      "source": [
        "geemap.pie_chart(\n",
        "    df, names='NAME', values='sum', max_rows=30, height=500, title='Cropland Gain'\n",
        ")"
      ],
      "id": "JSsGDiT9gSBk"
    },
    {
      "cell_type": "code",
      "execution_count": null,
      "metadata": {
        "id": "unbRKSd8gSBk"
      },
      "outputs": [],
      "source": [
        "geemap.zonal_stats(\n",
        "    cropland_loss,\n",
        "    countries,\n",
        "    'esri_cropland_loss.csv',\n",
        "    statistics_type='SUM',\n",
        "    scale=1000,\n",
        ")"
      ],
      "id": "unbRKSd8gSBk"
    },
    {
      "cell_type": "code",
      "execution_count": null,
      "metadata": {
        "id": "gDqxlQX-gSBk"
      },
      "outputs": [],
      "source": [
        "df = geemap.csv_to_df('esri_cropland_loss.csv')\n",
        "df.head()"
      ],
      "id": "gDqxlQX-gSBk"
    },
    {
      "cell_type": "code",
      "execution_count": null,
      "metadata": {
        "id": "sZJI7CtDgSBk"
      },
      "outputs": [],
      "source": [
        "geemap.bar_chart(\n",
        "    df,\n",
        "    x='NAME',\n",
        "    y='sum',\n",
        "    max_rows=30,\n",
        "    x_label='Country',\n",
        "    y_label='Area (km2)',\n",
        "    title='Cropland Loss',\n",
        ")"
      ],
      "id": "sZJI7CtDgSBk"
    },
    {
      "cell_type": "code",
      "execution_count": null,
      "metadata": {
        "id": "AazWF1uygSBk"
      },
      "outputs": [],
      "source": [
        "geemap.pie_chart(\n",
        "    df, names='NAME', values='sum', max_rows=30, height=500, title='Cropland Loss'\n",
        ")"
      ],
      "id": "AazWF1uygSBk"
    },
    {
      "cell_type": "markdown",
      "metadata": {
        "id": "jmo2zXoLgSBl"
      },
      "source": [
        "## Dynamic World Land Cover\n",
        "\n",
        "Dynamic World is a near realtime 10m resolution global land use land cover dataset, produced using deep learning, freely available and openly licensed. As a result of leveraging a novel deep learning approach, based on Sentinel-2 Top of Atmosphere, Dynamic World offers global land cover updating every 2-5 days depending on location.\n",
        "\n",
        "- [Dynamic World Website](https://www.dynamicworld.app/)\n",
        "- [Dynamic World datasets on Earth Engine](https://developers.google.com/earth-engine/datasets/catalog/GOOGLE_DYNAMICWORLD_V1)"
      ],
      "id": "jmo2zXoLgSBl"
    },
    {
      "cell_type": "markdown",
      "metadata": {
        "id": "0tqHgNO2gSBl"
      },
      "source": [
        "### Classification and Probability"
      ],
      "id": "0tqHgNO2gSBl"
    },
    {
      "cell_type": "code",
      "execution_count": null,
      "metadata": {
        "id": "n-N7AamwgSBl"
      },
      "outputs": [],
      "source": [
        "Map = geemap.Map()\n",
        "\n",
        "region = ee.Geometry.BBox(-179, -89, 179, 89)\n",
        "start_date = '2021-01-01'\n",
        "end_date = '2022-01-01'\n",
        "\n",
        "dw_class = geemap.dynamic_world(region, start_date, end_date, return_type='class')\n",
        "dw = geemap.dynamic_world(region, start_date, end_date, return_type='hillshade')\n",
        "\n",
        "dw_vis = {\"min\": 0, \"max\": 8, \"palette\": 'dw'}\n",
        "\n",
        "Map.addLayer(dw_class, dw_vis, 'DW Land Cover', False)\n",
        "Map.addLayer(dw, {}, 'DW Land Cover Hillshade')\n",
        "\n",
        "Map.add_legend(title=\"Dynamic World Land Cover\", builtin_legend='Dynamic_World')\n",
        "Map.setCenter(-88.9088, 43.0006, 12)\n",
        "Map"
      ],
      "id": "n-N7AamwgSBl"
    },
    {
      "cell_type": "markdown",
      "metadata": {
        "id": "6Aj1f_F9gSBl"
      },
      "source": [
        "### ESA Land Cover vs. Dynamic World"
      ],
      "id": "6Aj1f_F9gSBl"
    },
    {
      "cell_type": "code",
      "execution_count": null,
      "metadata": {
        "id": "zfCg9jEPgSBl"
      },
      "outputs": [],
      "source": [
        "Map = geemap.Map(center=[39.3322, -106.7349], zoom=10)\n",
        "\n",
        "left_layer = geemap.ee_tile_layer(esa, esa_vis, \"ESA Land Cover\")\n",
        "right_layer = geemap.ee_tile_layer(dw, {}, \"Dynamic World Land Cover\")\n",
        "\n",
        "Map.split_map(left_layer, right_layer)\n",
        "Map.add_legend(\n",
        "    title=\"ESA Land Cover\", builtin_legend='ESA_WorldCover', position='bottomleft'\n",
        ")\n",
        "Map.add_legend(\n",
        "    title=\"Dynamic World Land Cover\",\n",
        "    builtin_legend='Dynamic_World',\n",
        "    position='bottomright',\n",
        ")\n",
        "Map.setCenter(-88.9088, 43.0006, 12)\n",
        "\n",
        "Map"
      ],
      "id": "zfCg9jEPgSBl"
    },
    {
      "cell_type": "markdown",
      "metadata": {
        "id": "5w3QuWM-gSBl"
      },
      "source": [
        "### ESRI Land Cover vs. Dynamic World"
      ],
      "id": "5w3QuWM-gSBl"
    },
    {
      "cell_type": "code",
      "execution_count": null,
      "metadata": {
        "id": "O-ZlRxLhgSBl"
      },
      "outputs": [],
      "source": [
        "Map = geemap.Map(center=[-89.3998, 43.0886], zoom=10)\n",
        "\n",
        "left_layer = geemap.ee_tile_layer(esri_2021, esri_vis, \"ESRI Land Cover\")\n",
        "right_layer = geemap.ee_tile_layer(dw, {}, \"Dynamic World Land Cover\")\n",
        "\n",
        "Map.split_map(left_layer, right_layer)\n",
        "Map.add_legend(\n",
        "    title=\"ESRI Land Cover\", builtin_legend='ESRI_LandCover', position='bottomleft'\n",
        ")\n",
        "Map.add_legend(\n",
        "    title=\"Dynamic World Land Cover\",\n",
        "    builtin_legend='Dynamic_World',\n",
        "    position='bottomright',\n",
        ")\n",
        "Map.setCenter(-88.9088, 43.0006, 12)\n",
        "\n",
        "Map"
      ],
      "id": "O-ZlRxLhgSBl"
    }
  ],
  "metadata": {
    "kernelspec": {
      "display_name": "Python 3",
      "language": "python",
      "name": "python3"
    },
    "colab": {
      "provenance": []
    }
  },
  "nbformat": 4,
  "nbformat_minor": 5
}