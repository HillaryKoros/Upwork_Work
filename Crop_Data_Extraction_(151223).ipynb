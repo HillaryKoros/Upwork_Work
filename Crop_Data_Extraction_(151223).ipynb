{
  "cells": [
    {
      "cell_type": "markdown",
      "id": "kiPmd4LAgSBR",
      "metadata": {
        "id": "kiPmd4LAgSBR"
      },
      "source": [
        "[![image](https://colab.research.google.com/assets/colab-badge.svg)](https://github.com/HillaryKoros/Upwork_Work/blob/main/Crop_Data_Extraction_(151223).ipynb)"
      ]
    },
    {
      "cell_type": "markdown",
      "metadata": {},
      "source": [
        "# Crop Data Extraction and Posting to PostgreSQL\n",
        "\n",
        "\n",
        "## Introduction\n",
        "This   notebook  employs cloud-based geospatial analysis as the cornerstone for acquiring and processing spatiotemporal datasets crucial for an advanced agricultural monitoring tool or application. Leveraging the prowess of cloud computing in geospatial analysis, the initiative aims to seamlessly gather, process, and visualize diverse datasets pertaining to agricultural landscapes. Through this approach, it becomes possible to harness the immense potential of remote sensing data sources such as ESA Global Land Cover, ESRI Global Land Cover, Dynamic World, temperature datasets, altitude data, and rainfall data.\n",
        "\n",
        "By leveraging platforms like Google Earth Engine, it streamlines the extraction and integration of these datasets in real-time or near real-time. This dynamic data assimilation offers timely and accurate insights into evolving spatiotemporal patterns affecting agricultural productivity wihtin USA.\n",
        "\n",
        "\n",
        "### Prerequisites\n",
        "\n",
        "To use geemap and the Earth Engine Python API, you must [register](https://code.earthengine.google.com/register) for an Earth Engine account. Earth Engine is free for [noncommercial and research use](https://earthengine.google.com/noncommercial).\n",
        "\n",
        "### Earth Engine and geemap \n",
        "\n",
        "Earth Engine is free for [noncommercial and research use](https://earthengine.google.com/noncommercial). For more than a decade, Earth Engine has enabled planetary-scale Earth data science and analysis by nonprofit organizations, research scientists, and other impact users.\n",
        "\n",
        "With the launch of Earth Engine for [commercial use](https://earthengine.google.com/commercial), commercial customers will be charged for Earth Engine services. However, Earth Engine will remain free of charge for noncommercial use and research projects. Nonprofit organizations, academic institutions, educators, news media, Indigenous governments, and government researchers are eligible to use Earth Engine free of charge, just as they have done for over a decade.\n",
        "\n",
        "The geemap Python package is built upon the Earth Engine Python API and open-source mapping libraries. It allows Earth Engine users to interactively manipulate, analyze, and visualize geospatial big data in a Jupyter environment. Since its creation in April 2020, geemap has received over 2,700 GitHub stars and is being used by over 900 projects on GitHub. \n",
        "\n",
        "**Objectives**\n",
        "* Track crop growth and health over time using satellite imagery.\n",
        "* Identify areas of potential stress or disease outbreaks.\n",
        "* Estimate crop yields based on vegetation indices and environmental factors.\n",
        "* Create interactive maps and visualizations for farmers and stakeholders.\n",
        "\n",
        "\n",
        "\n",
        "Resourceful Links \n",
        "\n",
        "- [Google Earth Engine](https://earthengine.google.com/)\n",
        "- [Sign up for an Earth Engine account](https://earthengine.google.com/signup/)\n",
        "- [Awesome GEE Community Datasets](https://samapriya.github.io/awesome-gee-community-datasets)\n",
        "- [Geemap website](https://geemap.org/)"
      ]
    },
    {
      "cell_type": "code",
      "execution_count": 9,
      "id": "r7346I2FgSBV",
      "metadata": {
        "id": "r7346I2FgSBV"
      },
      "outputs": [],
      "source": [
        "#%pip install -U geemap"
      ]
    },
    {
      "cell_type": "markdown",
      "id": "pCzSEnH_gSBX",
      "metadata": {
        "id": "pCzSEnH_gSBX"
      },
      "source": [
        "## Import libraries"
      ]
    },
    {
      "cell_type": "code",
      "execution_count": 27,
      "id": "YTSb0upngSBX",
      "metadata": {
        "id": "YTSb0upngSBX"
      },
      "outputs": [
        {
          "data": {
            "text/html": [
              "\n",
              "            <style>\n",
              "                .geemap-dark {\n",
              "                    --jp-widgets-color: white;\n",
              "                    --jp-widgets-label-color: white;\n",
              "                    --jp-ui-font-color1: white;\n",
              "                    --jp-layout-color2: #454545;\n",
              "                    background-color: #383838;\n",
              "                }\n",
              "                    \n",
              "                .geemap-dark .jupyter-button {\n",
              "                    --jp-layout-color3: #383838;\n",
              "                }\n",
              "                \n",
              "                .geemap-colab {\n",
              "                    background-color: var(--colab-primary-surface-color, white);\n",
              "                }\n",
              "                    \n",
              "                .geemap-colab .jupyter-button {\n",
              "                    --jp-layout-color3: var(--colab-primary-surface-color, white);\n",
              "                }\n",
              "            </style>\n",
              "            "
            ],
            "text/plain": [
              "<IPython.core.display.HTML object>"
            ]
          },
          "metadata": {},
          "output_type": "display_data"
        }
      ],
      "source": [
        "import ee\n",
        "import geemap"
      ]
    },
    {
      "cell_type": "markdown",
      "metadata": {},
      "source": [
        "## Import USA Boundaries"
      ]
    },
    {
      "cell_type": "code",
      "execution_count": 29,
      "metadata": {},
      "outputs": [
        {
          "data": {
            "text/html": [
              "\n",
              "            <style>\n",
              "                .geemap-dark {\n",
              "                    --jp-widgets-color: white;\n",
              "                    --jp-widgets-label-color: white;\n",
              "                    --jp-ui-font-color1: white;\n",
              "                    --jp-layout-color2: #454545;\n",
              "                    background-color: #383838;\n",
              "                }\n",
              "                    \n",
              "                .geemap-dark .jupyter-button {\n",
              "                    --jp-layout-color3: #383838;\n",
              "                }\n",
              "                \n",
              "                .geemap-colab {\n",
              "                    background-color: var(--colab-primary-surface-color, white);\n",
              "                }\n",
              "                    \n",
              "                .geemap-colab .jupyter-button {\n",
              "                    --jp-layout-color3: var(--colab-primary-surface-color, white);\n",
              "                }\n",
              "            </style>\n",
              "            "
            ],
            "text/plain": [
              "<IPython.core.display.HTML object>"
            ]
          },
          "metadata": {},
          "output_type": "display_data"
        },
        {
          "ename": "TypeError",
          "evalue": "Map.add_layer() takes 2 positional arguments but 3 were given",
          "output_type": "error",
          "traceback": [
            "\u001b[1;31m---------------------------------------------------------------------------\u001b[0m",
            "\u001b[1;31mTypeError\u001b[0m                                 Traceback (most recent call last)",
            "\u001b[1;32md:\\Upwork (151223)\\Upwork_Work\\Crop_Data_Extraction_(151223).ipynb Cell 7\u001b[0m line \u001b[0;36m4\n\u001b[0;32m      <a href='vscode-notebook-cell:/d%3A/Upwork%20%28151223%29/Upwork_Work/Crop_Data_Extraction_%28151223%29.ipynb#Y122sZmlsZQ%3D%3D?line=1'>2</a>\u001b[0m states \u001b[39m=\u001b[39m ee\u001b[39m.\u001b[39mFeatureCollection(\u001b[39m'\u001b[39m\u001b[39mTIGER/2018/States\u001b[39m\u001b[39m'\u001b[39m)\n\u001b[0;32m      <a href='vscode-notebook-cell:/d%3A/Upwork%20%28151223%29/Upwork_Work/Crop_Data_Extraction_%28151223%29.ipynb#Y122sZmlsZQ%3D%3D?line=2'>3</a>\u001b[0m fc \u001b[39m=\u001b[39m states\u001b[39m.\u001b[39mfilter(ee\u001b[39m.\u001b[39mFilter\u001b[39m.\u001b[39minList(\u001b[39m'\u001b[39m\u001b[39mNAME\u001b[39m\u001b[39m'\u001b[39m, [\u001b[39m'\u001b[39m\u001b[39mCalifornia\u001b[39m\u001b[39m'\u001b[39m, \u001b[39m'\u001b[39m\u001b[39mOregon\u001b[39m\u001b[39m'\u001b[39m, \u001b[39m'\u001b[39m\u001b[39mWashington\u001b[39m\u001b[39m'\u001b[39m]))\n\u001b[1;32m----> <a href='vscode-notebook-cell:/d%3A/Upwork%20%28151223%29/Upwork_Work/Crop_Data_Extraction_%28151223%29.ipynb#Y122sZmlsZQ%3D%3D?line=3'>4</a>\u001b[0m m\u001b[39m.\u001b[39;49madd_layer(fc, \u001b[39m'\u001b[39;49m\u001b[39mWest Coast\u001b[39;49m\u001b[39m'\u001b[39;49m)\n\u001b[0;32m      <a href='vscode-notebook-cell:/d%3A/Upwork%20%28151223%29/Upwork_Work/Crop_Data_Extraction_%28151223%29.ipynb#Y122sZmlsZQ%3D%3D?line=4'>5</a>\u001b[0m m\u001b[39m.\u001b[39mcenter_object(fc, \u001b[39m5\u001b[39m)\n\u001b[0;32m      <a href='vscode-notebook-cell:/d%3A/Upwork%20%28151223%29/Upwork_Work/Crop_Data_Extraction_%28151223%29.ipynb#Y122sZmlsZQ%3D%3D?line=5'>6</a>\u001b[0m m\n",
            "\u001b[1;31mTypeError\u001b[0m: Map.add_layer() takes 2 positional arguments but 3 were given"
          ]
        }
      ],
      "source": [
        "m = geemap.Map()\n",
        "states = ee.FeatureCollection('TIGER/2018/States')\n",
        "fc = states.filter(ee.Filter.inList('NAME', ['California', 'Oregon', 'Washington']))\n",
        "m.add_layer(fc, 'West Coast')\n",
        "m.center_object(fc, 5)\n",
        "m"
      ]
    },
    {
      "cell_type": "markdown",
      "id": "ZwNZzEq3gSBX",
      "metadata": {
        "id": "ZwNZzEq3gSBX"
      },
      "source": [
        "## ESA WordCover\n",
        "\n",
        "The European Space Agency (ESA) WorldCover 10 m 2020 product provides a global land cover map for 2020 at 10 m resolution based on Sentinel-1 and Sentinel-2 data. The WorldCover product comes with 11 land cover classes and has been generated in the framework of the ESA WorldCover project, part of the 5th Earth Observation Envelope Programme (EOEP-5) of the European Space Agency.\n",
        "\n",
        "- [ESA WorldCover website](https://esa-worldcover.org/)\n",
        "- [EAS WroldCover in the Earth Engine Data Catalog](https://developers.google.com/earth-engine/datasets/catalog/ESA_WorldCover_v100)\n",
        "- [User Manual and Validation Report](https://esa-worldcover.org/en/data-access)"
      ]
    },
    {
      "cell_type": "markdown",
      "id": "EYw2pVDAgSBY",
      "metadata": {
        "id": "EYw2pVDAgSBY"
      },
      "source": [
        "### Using Web Map Services\n",
        "\n",
        "The ESA WorldCover product can also be used within other websites or GIS clients by 'Web Map Services'. These services provide a direct link to the cached images and are the best option if you simply want to map the data and produce cartographic products. They are not suitable for analysis as the data are represented only as RGB images.\n",
        "\n",
        "- WMTS: https://services.terrascope.be/wmts/v2\n",
        "- WMS: https://services.terrascope.be/wms/v2\n",
        "- Layers: WORLDCOVER_2020_MAP, WORLDCOVER_2020_S2_FCC, WORLDCOVER_2020_S2_TCC"
      ]
    },
    {
      "cell_type": "code",
      "execution_count": 4,
      "id": "R9HvhagxgSBY",
      "metadata": {
        "id": "R9HvhagxgSBY"
      },
      "outputs": [
        {
          "data": {
            "application/vnd.jupyter.widget-view+json": {
              "model_id": "175365d026244d128ccae6fc8fb01c56",
              "version_major": 2,
              "version_minor": 0
            },
            "text/plain": [
              "Map(center=[20, 0], controls=(WidgetControl(options=['position', 'transparent_bg'], widget=HBox(children=(Togg…"
            ]
          },
          "execution_count": 4,
          "metadata": {},
          "output_type": "execute_result"
        }
      ],
      "source": [
        "\n",
        "esa_wms = 'https://services.terrascope.be/wms/v2'  # The WMS URL\n",
        "tcc_layer = 'WORLDCOVER_2020_S2_TCC'  # The true color composite imagery\n",
        "fcc_layer = 'WORLDCOVER_2020_S2_FCC'  # The false color composite imagery\n",
        "map_layer = 'WORLDCOVER_2020_MAP'  # The land cover classification map\n",
        "\n",
        "Map.add_wms_layer(esa_wms, layers=tcc_layer, name='True Color', attribution='ESA')\n",
        "Map.add_wms_layer(esa_wms, layers=fcc_layer, name='False Color', attribution='ESA')\n",
        "Map.add_wms_layer(esa_wms, layers=map_layer, name='Classification', attribution='ESA')\n",
        "\n",
        "Map.add_legend(title='ESA Land Cover', builtin_legend='ESA_WorldCover')\n",
        "\n",
        "\n",
        "Map\n"
      ]
    },
    {
      "cell_type": "markdown",
      "id": "0eU7U6A0gSBZ",
      "metadata": {
        "id": "0eU7U6A0gSBZ"
      },
      "source": [
        "### Using Earth Engine\n",
        "\n",
        "- [EAS WroldCover in the Earth Engine Data Catalog](https://developers.google.com/earth-engine/datasets/catalog/ESA_WorldCover_v100)"
      ]
    },
    {
      "cell_type": "code",
      "execution_count": 5,
      "id": "apsX83HAgSBZ",
      "metadata": {
        "id": "apsX83HAgSBZ"
      },
      "outputs": [
        {
          "data": {
            "application/vnd.jupyter.widget-view+json": {
              "model_id": "c217cead154649c09a86be79a837bba3",
              "version_major": 2,
              "version_minor": 0
            },
            "text/plain": [
              "Map(center=[20, 0], controls=(WidgetControl(options=['position', 'transparent_bg'], widget=HBox(children=(Togg…"
            ]
          },
          "execution_count": 5,
          "metadata": {},
          "output_type": "execute_result"
        }
      ],
      "source": [
        "Map = geemap.Map()\n",
        "Map.add_basemap('HYBRID')\n",
        "\n",
        "esa = ee.ImageCollection(\"ESA/WorldCover/v100\").first()\n",
        "esa_vis = {'bands': ['Map']}\n",
        "\n",
        "Map.addLayer(esa, esa_vis, \"ESA Land Cover\")\n",
        "Map.add_legend(title=\"ESA Land Cover\", builtin_legend='ESA_WorldCover')\n",
        "\n",
        "Map"
      ]
    },
    {
      "cell_type": "markdown",
      "id": "nDbyMYFtgSBa",
      "metadata": {
        "id": "nDbyMYFtgSBa"
      },
      "source": [
        "### Creating charts"
      ]
    },
    {
      "cell_type": "code",
      "execution_count": 1,
      "id": "HyFEZrWQgSBa",
      "metadata": {
        "id": "HyFEZrWQgSBa"
      },
      "outputs": [
        {
          "ename": "NameError",
          "evalue": "name 'geemap' is not defined",
          "output_type": "error",
          "traceback": [
            "\u001b[1;31m---------------------------------------------------------------------------\u001b[0m",
            "\u001b[1;31mNameError\u001b[0m                                 Traceback (most recent call last)",
            "\u001b[1;32md:\\Upwork (151223)\\Upwork_Work\\Crop_Data_Extraction_(151223).ipynb Cell 12\u001b[0m line \u001b[0;36m1\n\u001b[1;32m----> <a href='vscode-notebook-cell:/d%3A/Upwork%20%28151223%29/Upwork_Work/Crop_Data_Extraction_%28151223%29.ipynb#X14sZmlsZQ%3D%3D?line=0'>1</a>\u001b[0m histogram \u001b[39m=\u001b[39m geemap\u001b[39m.\u001b[39mimage_histogram(\n\u001b[0;32m      <a href='vscode-notebook-cell:/d%3A/Upwork%20%28151223%29/Upwork_Work/Crop_Data_Extraction_%28151223%29.ipynb#X14sZmlsZQ%3D%3D?line=1'>2</a>\u001b[0m     esa, scale\u001b[39m=\u001b[39m\u001b[39m1000\u001b[39m, x_label\u001b[39m=\u001b[39m\u001b[39m'\u001b[39m\u001b[39mLand Cover Type\u001b[39m\u001b[39m'\u001b[39m, y_label\u001b[39m=\u001b[39m\u001b[39m'\u001b[39m\u001b[39mArea (km2)\u001b[39m\u001b[39m'\u001b[39m\n\u001b[0;32m      <a href='vscode-notebook-cell:/d%3A/Upwork%20%28151223%29/Upwork_Work/Crop_Data_Extraction_%28151223%29.ipynb#X14sZmlsZQ%3D%3D?line=2'>3</a>\u001b[0m )\n\u001b[0;32m      <a href='vscode-notebook-cell:/d%3A/Upwork%20%28151223%29/Upwork_Work/Crop_Data_Extraction_%28151223%29.ipynb#X14sZmlsZQ%3D%3D?line=3'>4</a>\u001b[0m histogram\n",
            "\u001b[1;31mNameError\u001b[0m: name 'geemap' is not defined"
          ]
        }
      ],
      "source": [
        "histogram = geemap.image_histogram(\n",
        "    esa, scale=1000, x_label='Land Cover Type', y_label='Area (km2)'\n",
        ")\n",
        "histogram"
      ]
    },
    {
      "cell_type": "code",
      "execution_count": null,
      "id": "QpSUo2qzgSBa",
      "metadata": {
        "id": "QpSUo2qzgSBa"
      },
      "outputs": [],
      "source": [
        "df = geemap.image_histogram(esa, scale=1000, return_df=True)\n",
        "df"
      ]
    },
    {
      "cell_type": "code",
      "execution_count": null,
      "id": "Kui1Wt5kgSBb",
      "metadata": {
        "id": "Kui1Wt5kgSBb"
      },
      "outputs": [],
      "source": [
        "esa_labels = list(geemap.builtin_legends['ESA_WorldCover'].keys())\n",
        "esa_labels"
      ]
    },
    {
      "cell_type": "code",
      "execution_count": null,
      "id": "CdsTXDyogSBb",
      "metadata": {
        "id": "CdsTXDyogSBb"
      },
      "outputs": [],
      "source": [
        "df['label'] = esa_labels\n",
        "df"
      ]
    },
    {
      "cell_type": "code",
      "execution_count": null,
      "id": "lR0wlny8gSBb",
      "metadata": {
        "id": "lR0wlny8gSBb"
      },
      "outputs": [],
      "source": [
        "round(df['value'].sum() / 1e6, 2)"
      ]
    },
    {
      "cell_type": "code",
      "execution_count": null,
      "id": "l2XYAgXNgSBb",
      "metadata": {
        "id": "l2XYAgXNgSBb"
      },
      "outputs": [],
      "source": [
        "geemap.bar_chart(\n",
        "    df, x='label', y='value', x_label='Land Cover Type', y_label='Area (km2)'\n",
        ")"
      ]
    },
    {
      "cell_type": "code",
      "execution_count": null,
      "id": "I-i889urgSBb",
      "metadata": {
        "id": "I-i889urgSBb"
      },
      "outputs": [],
      "source": [
        "geemap.pie_chart(df, names='label', values='value', height=500)"
      ]
    },
    {
      "cell_type": "markdown",
      "id": "P6GoJTBSgSBc",
      "metadata": {
        "id": "P6GoJTBSgSBc"
      },
      "source": [
        "### Adding Administrative Boundaries"
      ]
    },
    {
      "cell_type": "code",
      "execution_count": null,
      "id": "e5ofsY4xgSBc",
      "metadata": {
        "id": "e5ofsY4xgSBc"
      },
      "outputs": [],
      "source": [
        "countries = ee.FeatureCollection(geemap.examples.get_ee_path('countries'))\n",
        "africa = countries.filter(ee.Filter.eq('CONTINENT', 'Africa'))\n",
        "style = {'fillColor': '00000000'}\n",
        "Map.addLayer(countries.style(**style), {}, 'Countries', False)\n",
        "Map.addLayer(africa.style(**style), {}, 'Africa')\n",
        "Map.centerObject(africa)\n",
        "Map"
      ]
    },
    {
      "cell_type": "markdown",
      "id": "_6YK2DHmgSBc",
      "metadata": {
        "id": "_6YK2DHmgSBc"
      },
      "source": [
        "### Extracting Croplands"
      ]
    },
    {
      "cell_type": "code",
      "execution_count": null,
      "id": "oHGp5dyIgSBc",
      "metadata": {
        "id": "oHGp5dyIgSBc"
      },
      "outputs": [],
      "source": [
        "cropland = esa.eq(40).clipToCollection(africa).selfMask()\n",
        "Map.addLayer(cropland, {'palette': ['f096ff']}, 'Cropland')\n",
        "Map.show_layer(name='ESA Land Cover', show=False)"
      ]
    },
    {
      "cell_type": "markdown",
      "id": "lCpRqlmxgSBc",
      "metadata": {
        "id": "lCpRqlmxgSBc"
      },
      "source": [
        "### Zonal Statistics"
      ]
    },
    {
      "cell_type": "code",
      "execution_count": null,
      "id": "gqQfIu8wgSBc",
      "metadata": {
        "id": "gqQfIu8wgSBc"
      },
      "outputs": [],
      "source": [
        "geemap.zonal_stats(\n",
        "    cropland, africa, 'esa_cropland.csv', statistics_type='SUM', scale=1000\n",
        ")"
      ]
    },
    {
      "cell_type": "code",
      "execution_count": null,
      "id": "6tE8FNFBgSBc",
      "metadata": {
        "id": "6tE8FNFBgSBc"
      },
      "outputs": [],
      "source": [
        "df = geemap.csv_to_df('esa_cropland.csv')\n",
        "df.head()"
      ]
    },
    {
      "cell_type": "code",
      "execution_count": null,
      "id": "SHAof80dgSBc",
      "metadata": {
        "id": "SHAof80dgSBc"
      },
      "outputs": [],
      "source": [
        "geemap.bar_chart(\n",
        "    df, x='NAME', y='sum', max_rows=30, x_label='Country', y_label='Area (km2)'\n",
        ")"
      ]
    },
    {
      "cell_type": "code",
      "execution_count": null,
      "id": "25pkLCuVgSBd",
      "metadata": {
        "id": "25pkLCuVgSBd"
      },
      "outputs": [],
      "source": [
        "geemap.pie_chart(df, names='NAME', values='sum', max_rows=20, height=500)"
      ]
    },
    {
      "cell_type": "markdown",
      "id": "bpkn6I7tgSBd",
      "metadata": {
        "id": "bpkn6I7tgSBd"
      },
      "source": [
        "## ESRI GLobal Land Cover\n",
        "\n",
        "The ESRI GLobal Land Cover dataset is a global map of land use/land cover (LULC) derived from ESA Sentinel-2 imagery at 10m resolution. Each year is generated from Impact Observatory’s deep learning AI land classification model used a massive training dataset of billions of human-labeled image pixels developed by the National Geographic Society. The global maps were produced by applying this model to the Sentinel-2 scene collection on Microsoft’s Planetary Computer, processing over 400,000 Earth observations per year.\n",
        "\n",
        "- https://livingatlas.arcgis.com/landcover/\n",
        "- https://www.arcgis.com/home/item.html?id=d3da5dd386d140cf93fc9ecbf8da5e31\n",
        "- https://samapriya.github.io/awesome-gee-community-datasets/projects/S2TSLULC/"
      ]
    },
    {
      "cell_type": "markdown",
      "id": "qTB6PsXegSBd",
      "metadata": {
        "id": "qTB6PsXegSBd"
      },
      "source": [
        "### Using Awesome GEE Community Datasets"
      ]
    },
    {
      "cell_type": "code",
      "execution_count": null,
      "id": "Ze2ncL0WgSBd",
      "metadata": {
        "id": "Ze2ncL0WgSBd"
      },
      "outputs": [],
      "source": [
        "Map = geemap.Map()\n",
        "Map.add_basemap('HYBRID')\n",
        "\n",
        "esri = ee.ImageCollection(\n",
        "    'projects/sat-io/open-datasets/landcover/ESRI_Global-LULC_10m_TS'\n",
        ")\n",
        "\n",
        "esri_2017 = esri.filterDate('2017-01-01', '2017-12-31').mosaic()\n",
        "esri_2018 = esri.filterDate('2018-01-01', '2018-12-31').mosaic()\n",
        "esri_2019 = esri.filterDate('2019-01-01', '2019-12-31').mosaic()\n",
        "esri_2020 = esri.filterDate('2020-01-01', '2020-12-31').mosaic()\n",
        "esri_2021 = esri.filterDate('2021-01-01', '2021-12-31').mosaic()\n",
        "\n",
        "esri_vis = {'min': 1, 'max': 11, 'palette': 'esri_lulc'}\n",
        "\n",
        "Map.addLayer(esri_2017, esri_vis, 'ESRI LULC 2017')\n",
        "Map.addLayer(esri_2018, esri_vis, 'ESRI LULC 2018')\n",
        "Map.addLayer(esri_2019, esri_vis, 'ESRI LULC 2019')\n",
        "Map.addLayer(esri_2020, esri_vis, 'ESRI LULC 2020')\n",
        "Map.addLayer(esri_2021, esri_vis, 'ESRI LULC 2021')\n",
        "\n",
        "Map.add_legend(title='ESRI Land Cover', builtin_legend='ESRI_LandCover_TS')\n",
        "Map"
      ]
    },
    {
      "cell_type": "markdown",
      "id": "GEfWYRUJgSBd",
      "metadata": {
        "id": "GEfWYRUJgSBd"
      },
      "source": [
        "### Using Timeseries Inspector"
      ]
    },
    {
      "cell_type": "code",
      "execution_count": null,
      "id": "TdrgSSLBgSBd",
      "metadata": {
        "id": "TdrgSSLBgSBd"
      },
      "outputs": [],
      "source": [
        "images = ee.List([esri_2017, esri_2018, esri_2019, esri_2020, esri_2021])\n",
        "collection = ee.ImageCollection.fromImages(images)"
      ]
    },
    {
      "cell_type": "code",
      "execution_count": null,
      "id": "IO93m5A4gSBe",
      "metadata": {
        "id": "IO93m5A4gSBe"
      },
      "outputs": [],
      "source": [
        "years = [str(year) for year in range(2017, 2022)]\n",
        "years"
      ]
    },
    {
      "cell_type": "code",
      "execution_count": null,
      "id": "vBvSvqwEgSBe",
      "metadata": {
        "id": "vBvSvqwEgSBe"
      },
      "outputs": [],
      "source": [
        "Map = geemap.Map()\n",
        "Map.ts_inspector(collection, years, esri_vis, width='80px')\n",
        "Map.add_legend(title='ESRI Land Cover', builtin_legend='ESRI_LandCover_TS')\n",
        "Map"
      ]
    },
    {
      "cell_type": "markdown",
      "id": "7mMq4jnJgSBe",
      "metadata": {
        "id": "7mMq4jnJgSBe"
      },
      "source": [
        "### Extracting Croplands"
      ]
    },
    {
      "cell_type": "code",
      "execution_count": null,
      "id": "ObrnmGOVgSBe",
      "metadata": {
        "id": "ObrnmGOVgSBe"
      },
      "outputs": [],
      "source": [
        "countries = ee.FeatureCollection(geemap.examples.get_ee_path('countries'))\n",
        "africa = countries.filter(ee.Filter.eq('CONTINENT', 'Africa'))"
      ]
    },
    {
      "cell_type": "code",
      "execution_count": null,
      "id": "YngNmCMcgSBe",
      "metadata": {
        "id": "YngNmCMcgSBe"
      },
      "outputs": [],
      "source": [
        "cropland_col = collection.map(lambda img: img.eq(5).clipToCollection(africa).selfMask())\n",
        "cropland_ts = cropland_col.toBands().rename(years)"
      ]
    },
    {
      "cell_type": "code",
      "execution_count": null,
      "id": "R-cLA5cxgSBe",
      "metadata": {
        "id": "R-cLA5cxgSBe"
      },
      "outputs": [],
      "source": [
        "Map = geemap.Map()\n",
        "\n",
        "style = {'fillColor': '00000000'}\n",
        "Map.addLayer(cropland_col.first(), {'palette': ['#ab6c28']}, 'first')\n",
        "Map.addLayer(countries.style(**style), {}, 'Countries', False)\n",
        "Map.addLayer(africa.style(**style), {}, 'Africa')\n",
        "Map.centerObject(africa)\n",
        "\n",
        "Map"
      ]
    },
    {
      "cell_type": "code",
      "execution_count": null,
      "id": "OxxLOPMngSBe",
      "metadata": {
        "id": "OxxLOPMngSBe"
      },
      "outputs": [],
      "source": [
        "cropland_ts.bandNames().getInfo()"
      ]
    },
    {
      "cell_type": "markdown",
      "id": "UTRAoCzrgSBi",
      "metadata": {
        "id": "UTRAoCzrgSBi"
      },
      "source": [
        "### Zonal Statistics"
      ]
    },
    {
      "cell_type": "code",
      "execution_count": null,
      "id": "415vnhQBgSBj",
      "metadata": {
        "id": "415vnhQBgSBj"
      },
      "outputs": [],
      "source": [
        "geemap.zonal_stats(\n",
        "    cropland_ts, africa, 'esri_cropland.csv', statistics_type='SUM', scale=1000\n",
        ")"
      ]
    },
    {
      "cell_type": "code",
      "execution_count": null,
      "id": "Xy3Swm-GgSBj",
      "metadata": {
        "id": "Xy3Swm-GgSBj"
      },
      "outputs": [],
      "source": [
        "df = geemap.csv_to_df('esri_cropland.csv')\n",
        "df.head()"
      ]
    },
    {
      "cell_type": "code",
      "execution_count": null,
      "id": "Oyz2DjR-gSBj",
      "metadata": {
        "id": "Oyz2DjR-gSBj"
      },
      "outputs": [],
      "source": [
        "geemap.bar_chart(df, x='NAME', y=years, max_rows=20, legend_title='Year')"
      ]
    },
    {
      "cell_type": "code",
      "execution_count": null,
      "id": "A-oQvawdgSBj",
      "metadata": {
        "id": "A-oQvawdgSBj"
      },
      "outputs": [],
      "source": [
        "geemap.pie_chart(df, names='NAME', values='2020', max_rows=20, height=500)"
      ]
    },
    {
      "cell_type": "markdown",
      "id": "Yi3vJiUXgSBj",
      "metadata": {
        "id": "Yi3vJiUXgSBj"
      },
      "source": [
        "### Analyzing Cropland Gain and Loss"
      ]
    },
    {
      "cell_type": "code",
      "execution_count": null,
      "id": "x-XHuJI5gSBj",
      "metadata": {
        "id": "x-XHuJI5gSBj"
      },
      "outputs": [],
      "source": [
        "Map = geemap.Map()\n",
        "Map.add_basemap('HYBRID')\n",
        "\n",
        "cropland_2017 = esri_2017.eq(5).selfMask()\n",
        "cropland_2021 = esri_2021.eq(5).selfMask()\n",
        "\n",
        "cropland_gain = esri_2017.neq(5).And(esri_2021.eq(5)).selfMask()\n",
        "cropland_loss = esri_2017.eq(5).And(esri_2021.neq(5)).selfMask()\n",
        "\n",
        "Map.addLayer(cropland_2017, {'palette': 'brown'}, 'Cropland 2017', False)\n",
        "Map.addLayer(cropland_2021, {'palette': 'cyan'}, 'Cropland 2021', False)\n",
        "\n",
        "Map.addLayer(cropland_gain, {'palette': 'yellow'}, 'Cropland gain')\n",
        "Map.addLayer(cropland_loss, {'palette': 'red'}, 'Cropland loss')\n",
        "Map"
      ]
    },
    {
      "cell_type": "code",
      "execution_count": null,
      "id": "Dq_tKo0kgSBj",
      "metadata": {
        "id": "Dq_tKo0kgSBj"
      },
      "outputs": [],
      "source": [
        "geemap.zonal_stats(\n",
        "    cropland_gain,\n",
        "    countries,\n",
        "    'esri_cropland_gain.csv',\n",
        "    statistics_type='SUM',\n",
        "    scale=1000,\n",
        ")"
      ]
    },
    {
      "cell_type": "code",
      "execution_count": null,
      "id": "nVuLop_fgSBk",
      "metadata": {
        "id": "nVuLop_fgSBk"
      },
      "outputs": [],
      "source": [
        "df = geemap.csv_to_df('esri_cropland_gain.csv')\n",
        "df.head()"
      ]
    },
    {
      "cell_type": "code",
      "execution_count": null,
      "id": "PqAyZaESgSBk",
      "metadata": {
        "id": "PqAyZaESgSBk"
      },
      "outputs": [],
      "source": [
        "geemap.bar_chart(\n",
        "    df,\n",
        "    x='NAME',\n",
        "    y='sum',\n",
        "    max_rows=30,\n",
        "    x_label='Country',\n",
        "    y_label='Area (km2)',\n",
        "    title='Cropland Gain',\n",
        ")"
      ]
    },
    {
      "cell_type": "code",
      "execution_count": null,
      "id": "JSsGDiT9gSBk",
      "metadata": {
        "id": "JSsGDiT9gSBk"
      },
      "outputs": [],
      "source": [
        "geemap.pie_chart(\n",
        "    df, names='NAME', values='sum', max_rows=30, height=500, title='Cropland Gain'\n",
        ")"
      ]
    },
    {
      "cell_type": "code",
      "execution_count": null,
      "id": "unbRKSd8gSBk",
      "metadata": {
        "id": "unbRKSd8gSBk"
      },
      "outputs": [],
      "source": [
        "geemap.zonal_stats(\n",
        "    cropland_loss,\n",
        "    countries,\n",
        "    'esri_cropland_loss.csv',\n",
        "    statistics_type='SUM',\n",
        "    scale=1000,\n",
        ")"
      ]
    },
    {
      "cell_type": "code",
      "execution_count": null,
      "id": "gDqxlQX-gSBk",
      "metadata": {
        "id": "gDqxlQX-gSBk"
      },
      "outputs": [],
      "source": [
        "df = geemap.csv_to_df('esri_cropland_loss.csv')\n",
        "df.head()"
      ]
    },
    {
      "cell_type": "code",
      "execution_count": null,
      "id": "sZJI7CtDgSBk",
      "metadata": {
        "id": "sZJI7CtDgSBk"
      },
      "outputs": [],
      "source": [
        "geemap.bar_chart(\n",
        "    df,\n",
        "    x='NAME',\n",
        "    y='sum',\n",
        "    max_rows=30,\n",
        "    x_label='Country',\n",
        "    y_label='Area (km2)',\n",
        "    title='Cropland Loss',\n",
        ")"
      ]
    },
    {
      "cell_type": "code",
      "execution_count": null,
      "id": "AazWF1uygSBk",
      "metadata": {
        "id": "AazWF1uygSBk"
      },
      "outputs": [],
      "source": [
        "geemap.pie_chart(\n",
        "    df, names='NAME', values='sum', max_rows=30, height=500, title='Cropland Loss'\n",
        ")"
      ]
    },
    {
      "cell_type": "markdown",
      "id": "jmo2zXoLgSBl",
      "metadata": {
        "id": "jmo2zXoLgSBl"
      },
      "source": [
        "## Dynamic World Land Cover\n",
        "\n",
        "Dynamic World is a near realtime 10m resolution global land use land cover dataset, produced using deep learning, freely available and openly licensed. As a result of leveraging a novel deep learning approach, based on Sentinel-2 Top of Atmosphere, Dynamic World offers global land cover updating every 2-5 days depending on location.\n",
        "\n",
        "- [Dynamic World Website](https://www.dynamicworld.app/)\n",
        "- [Dynamic World datasets on Earth Engine](https://developers.google.com/earth-engine/datasets/catalog/GOOGLE_DYNAMICWORLD_V1)"
      ]
    },
    {
      "cell_type": "markdown",
      "id": "0tqHgNO2gSBl",
      "metadata": {
        "id": "0tqHgNO2gSBl"
      },
      "source": [
        "### Classification and Probability"
      ]
    },
    {
      "cell_type": "code",
      "execution_count": null,
      "id": "n-N7AamwgSBl",
      "metadata": {
        "id": "n-N7AamwgSBl"
      },
      "outputs": [],
      "source": [
        "Map = geemap.Map()\n",
        "\n",
        "region = ee.Geometry.BBox(-179, -89, 179, 89)\n",
        "start_date = '2021-01-01'\n",
        "end_date = '2022-01-01'\n",
        "\n",
        "dw_class = geemap.dynamic_world(region, start_date, end_date, return_type='class')\n",
        "dw = geemap.dynamic_world(region, start_date, end_date, return_type='hillshade')\n",
        "\n",
        "dw_vis = {\"min\": 0, \"max\": 8, \"palette\": 'dw'}\n",
        "\n",
        "Map.addLayer(dw_class, dw_vis, 'DW Land Cover', False)\n",
        "Map.addLayer(dw, {}, 'DW Land Cover Hillshade')\n",
        "\n",
        "Map.add_legend(title=\"Dynamic World Land Cover\", builtin_legend='Dynamic_World')\n",
        "Map.setCenter(-88.9088, 43.0006, 12)\n",
        "Map"
      ]
    },
    {
      "cell_type": "markdown",
      "id": "6Aj1f_F9gSBl",
      "metadata": {
        "id": "6Aj1f_F9gSBl"
      },
      "source": [
        "### ESA Land Cover vs. Dynamic World"
      ]
    },
    {
      "cell_type": "code",
      "execution_count": null,
      "id": "zfCg9jEPgSBl",
      "metadata": {
        "id": "zfCg9jEPgSBl"
      },
      "outputs": [],
      "source": [
        "Map = geemap.Map(center=[39.3322, -106.7349], zoom=10)\n",
        "\n",
        "left_layer = geemap.ee_tile_layer(esa, esa_vis, \"ESA Land Cover\")\n",
        "right_layer = geemap.ee_tile_layer(dw, {}, \"Dynamic World Land Cover\")\n",
        "\n",
        "Map.split_map(left_layer, right_layer)\n",
        "Map.add_legend(\n",
        "    title=\"ESA Land Cover\", builtin_legend='ESA_WorldCover', position='bottomleft'\n",
        ")\n",
        "Map.add_legend(\n",
        "    title=\"Dynamic World Land Cover\",\n",
        "    builtin_legend='Dynamic_World',\n",
        "    position='bottomright',\n",
        ")\n",
        "Map.setCenter(-88.9088, 43.0006, 12)\n",
        "\n",
        "Map"
      ]
    },
    {
      "cell_type": "markdown",
      "id": "5w3QuWM-gSBl",
      "metadata": {
        "id": "5w3QuWM-gSBl"
      },
      "source": [
        "### ESRI Land Cover vs. Dynamic World"
      ]
    },
    {
      "cell_type": "code",
      "execution_count": null,
      "id": "O-ZlRxLhgSBl",
      "metadata": {
        "id": "O-ZlRxLhgSBl"
      },
      "outputs": [],
      "source": [
        "Map = geemap.Map(center=[-89.3998, 43.0886], zoom=10)\n",
        "\n",
        "left_layer = geemap.ee_tile_layer(esri_2021, esri_vis, \"ESRI Land Cover\")\n",
        "right_layer = geemap.ee_tile_layer(dw, {}, \"Dynamic World Land Cover\")\n",
        "\n",
        "Map.split_map(left_layer, right_layer)\n",
        "Map.add_legend(\n",
        "    title=\"ESRI Land Cover\", builtin_legend='ESRI_LandCover', position='bottomleft'\n",
        ")\n",
        "Map.add_legend(\n",
        "    title=\"Dynamic World Land Cover\",\n",
        "    builtin_legend='Dynamic_World',\n",
        "    position='bottomright',\n",
        ")\n",
        "Map.setCenter(-88.9088, 43.0006, 12)\n",
        "\n",
        "Map"
      ]
    }
  ],
  "metadata": {
    "colab": {
      "provenance": []
    },
    "kernelspec": {
      "display_name": "Python 3",
      "language": "python",
      "name": "python3"
    },
    "language_info": {
      "codemirror_mode": {
        "name": "ipython",
        "version": 3
      },
      "file_extension": ".py",
      "mimetype": "text/x-python",
      "name": "python",
      "nbconvert_exporter": "python",
      "pygments_lexer": "ipython3",
      "version": "3.10.12"
    }
  },
  "nbformat": 4,
  "nbformat_minor": 5
}
