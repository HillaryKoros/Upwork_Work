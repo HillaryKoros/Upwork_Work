{
  "cells": [
    {
      "cell_type": "markdown",
      "metadata": {
        "id": "view-in-github",
        "colab_type": "text"
      },
      "source": [
        "<a href=\"https://colab.research.google.com/github/HillaryKoros/Upwork_Work/blob/main/Crop_Data_Extraction_(151223).ipynb\" target=\"_parent\"><img src=\"https://colab.research.google.com/assets/colab-badge.svg\" alt=\"Open In Colab\"/></a>"
      ]
    },
    {
      "cell_type": "markdown",
      "metadata": {
        "id": "6Q1kz3UmBKcN"
      },
      "source": [
        "[![image](https://colab.research.google.com/assets/colab-badge.svg)](https://colab.research.google.com/github/HillaryKoros/Upwork_Work/blob/main/Crop_Data_Extraction.ipynb)"
      ],
      "id": "6Q1kz3UmBKcN"
    },
    {
      "cell_type": "markdown",
      "metadata": {
        "id": "nr0er4l6BKcU"
      },
      "source": [
        "**Cropland mapping with Google Earth Engine and geemap**\n",
        "\n",
        "Useful links\n",
        "\n",
        "- [Google Earth Engine](https://earthengine.google.com/)\n",
        "- [Sign up for an Earth Engine account](https://earthengine.google.com/signup/)\n",
        "- [Awesome GEE Community Datasets](https://samapriya.github.io/awesome-gee-community-datasets)\n",
        "- [Geemap website](https://geemap.org/)\n",
        "- [Geemap book](https://book.geemap.org/)\n",
        "- [Geemap YouTube videos](https://youtube.com/@giswqs)"
      ],
      "id": "nr0er4l6BKcU"
    },
    {
      "cell_type": "code",
      "execution_count": null,
      "metadata": {
        "id": "xuQCpSuaBKcW"
      },
      "outputs": [],
      "source": [
        "# !pip install geemap"
      ],
      "id": "xuQCpSuaBKcW"
    },
    {
      "cell_type": "markdown",
      "metadata": {
        "id": "pOiJkG-kBKcY"
      },
      "source": [
        "## Import libraries"
      ],
      "id": "pOiJkG-kBKcY"
    },
    {
      "cell_type": "code",
      "execution_count": null,
      "metadata": {
        "id": "JWZkJoXQBKcY"
      },
      "outputs": [],
      "source": [
        "import ee\n",
        "import geemap"
      ],
      "id": "JWZkJoXQBKcY"
    },
    {
      "cell_type": "markdown",
      "metadata": {
        "id": "fAhMYvGBBKcZ"
      },
      "source": [
        "## ESA WordCover\n",
        "\n",
        "The European Space Agency (ESA) WorldCover 10 m 2020 product provides a global land cover map for 2020 at 10 m resolution based on Sentinel-1 and Sentinel-2 data. The WorldCover product comes with 11 land cover classes and has been generated in the framework of the ESA WorldCover project, part of the 5th Earth Observation Envelope Programme (EOEP-5) of the European Space Agency.\n",
        "\n",
        "- [ESA WorldCover website](https://esa-worldcover.org/)\n",
        "- [EAS WroldCover in the Earth Engine Data Catalog](https://developers.google.com/earth-engine/datasets/catalog/ESA_WorldCover_v100)\n",
        "- [User Manual and Validation Report](https://esa-worldcover.org/en/data-access)"
      ],
      "id": "fAhMYvGBBKcZ"
    },
    {
      "cell_type": "markdown",
      "metadata": {
        "id": "fdyJZmqUBKca"
      },
      "source": [
        "### Using Web Map Services\n",
        "\n",
        "The ESA WorldCover product can also be used within other websites or GIS clients by 'Web Map Services'. These services provide a direct link to the cached images and are the best option if you simply want to map the data and produce cartographic products. They are not suitable for analysis as the data are represented only as RGB images.\n",
        "\n",
        "- WMTS: https://services.terrascope.be/wmts/v2\n",
        "- WMS: https://services.terrascope.be/wms/v2\n",
        "- Layers: WORLDCOVER_2020_MAP, WORLDCOVER_2020_S2_FCC, WORLDCOVER_2020_S2_TCC"
      ],
      "id": "fdyJZmqUBKca"
    },
    {
      "cell_type": "code",
      "execution_count": null,
      "metadata": {
        "id": "olBc-KbGBKca",
        "outputId": "1b3a8afb-c863-42dd-8e2d-b7e082544beb",
        "colab": {
          "base_uri": "https://localhost:8080/",
          "height": 780,
          "referenced_widgets": [
            "158249092e734ac2987644312a3965f9",
            "9045cd0c9feb4b23b89f844242af5a35",
            "415820d5883b4277ae1bce187c8b0da2",
            "4f86167984ef48de9f9884cce1a6cfa5",
            "dc25585249da44fb820ee0a2b34131c9",
            "d3c994191e7547c48f72e4a6bce471fb",
            "11884336929049c3bce4e310ca67a5cb",
            "c295760b343247468080706abfc1cf19",
            "dbdcd26b27e94fe0bd6d5093747a0177",
            "e0dbb5aa16bb4b5b847a227fb92e1382",
            "25c78ccd31fb4dac90b686090c62094b",
            "08668437fb7c4c048caa31c43ed92ecd",
            "fd9a9143113748ed9ec57e7b542a1801",
            "83f7140bdafe4812bdccddac6d1795a9",
            "0010485f1bc645239dd31682399af01d",
            "b9c05d23fbae4e60b8d60ba03241f48f",
            "6c7d1699db074c11a7aa9daf5f5b5cd3",
            "ee9c2596a22b4916b86ae166e5d01723",
            "3e33b72774cc46a9a6c98a8c48d721a9",
            "cee2268799ce46519f748c0451885c97",
            "5207033d987d4cbb88ac9a7acf5ffad7",
            "3ba71262292146b8aaa3de7432879870",
            "964e772a905941dfa5a409740c0faa7a",
            "36e08a2ea4184f49acf3328560167dca",
            "bdfc49778c37463d954a5337d5f70912",
            "da90f5b9c21b420297f85c0cb202e202",
            "e482c1c9d476446e894cfc036e92c2ff",
            "0fcc1d26831b49529d3df02eeabdb38b",
            "da55c31689b14b8b9bb0c8bbf3e5abd7",
            "b20f402181894441bbb9a820d4dba311",
            "b0edbf759e7e4a47bc6bc17d243f5db5",
            "9dbcdf666aa242fb93920113a26456f4",
            "c70a9280b277480eab82186e5fbb5c8c",
            "d2b7e167e5bd44dea7b3d0682b7df6c7",
            "595bcb4cbc8347ba827e4cd26dab8ecb",
            "bb9cb724de7e4643a3003eb2d86d58bd",
            "f6d37c0790c14d1fba53a71721377539",
            "622536856b6c412fb643a44a30509e1a",
            "f276ccdf2b174c64b8853590134be015",
            "8f98c952d9934608b95f84b1d8c38c46",
            "bd70a61125d048049119e652e9e17b33",
            "b338d40e5b144ba38816f52281198040",
            "485be9407fa14975ac5e5798e4247b77",
            "fda9b0c69ab34ab2b5b42e79556974e4"
          ]
        }
      },
      "outputs": [
        {
          "output_type": "display_data",
          "data": {
            "text/plain": [
              "<IPython.core.display.HTML object>"
            ],
            "text/html": [
              "\n",
              "            <style>\n",
              "                .geemap-dark {\n",
              "                    --jp-widgets-color: white;\n",
              "                    --jp-widgets-label-color: white;\n",
              "                    --jp-ui-font-color1: white;\n",
              "                    --jp-layout-color2: #454545;\n",
              "                    background-color: #383838;\n",
              "                }\n",
              "                    \n",
              "                .geemap-dark .jupyter-button {\n",
              "                    --jp-layout-color3: #383838;\n",
              "                }\n",
              "                \n",
              "                .geemap-colab {\n",
              "                    background-color: var(--colab-primary-surface-color, white);\n",
              "                }\n",
              "                    \n",
              "                .geemap-colab .jupyter-button {\n",
              "                    --jp-layout-color3: var(--colab-primary-surface-color, white);\n",
              "                }\n",
              "            </style>\n",
              "            "
            ]
          },
          "metadata": {}
        },
        {
          "output_type": "stream",
          "name": "stdout",
          "text": [
            "To authorize access needed by Earth Engine, open the following URL in a web browser and follow the instructions. If the web browser does not start automatically, please manually browse the URL below.\n",
            "\n",
            "    https://code.earthengine.google.com/client-auth?scopes=https%3A//www.googleapis.com/auth/earthengine%20https%3A//www.googleapis.com/auth/devstorage.full_control&request_id=jD7LenjjjCQBKVr21x8RtKC5YEnb_hbYBhrronXdLqU&tc=1unARM5DFvIT0TYiULoqqvhdFrr00MLF1jf4paBk1sI&cc=yLxy9S70c48Rje0j3wQTCr-eyRTMuB36CgzdwD3ZfxQ\n",
            "\n",
            "The authorization workflow will generate a code, which you should paste in the box below.\n",
            "Enter verification code: 4/1AfJohXlSp3jfyoEMqpHPYzy3MreSHLwk4y6S1fUoKi3RFwI5hREVRrzLsoQ\n",
            "\n",
            "Successfully saved authorization token.\n"
          ]
        },
        {
          "output_type": "display_data",
          "data": {
            "text/plain": [
              "Map(center=[0, 0], controls=(WidgetControl(options=['position', 'transparent_bg'], widget=SearchDataGUI(childr…"
            ],
            "application/vnd.jupyter.widget-view+json": {
              "version_major": 2,
              "version_minor": 0,
              "model_id": "158249092e734ac2987644312a3965f9"
            }
          },
          "metadata": {
            "application/vnd.jupyter.widget-view+json": {
              "colab": {
                "custom_widget_manager": {
                  "url": "https://ssl.gstatic.com/colaboratory-static/widgets/colab-cdn-widget-manager/b3e629b1971e1542/manager.min.js"
                }
              }
            }
          }
        }
      ],
      "source": [
        "Map = geemap.Map()\n",
        "\n",
        "esa_wms = 'https://services.terrascope.be/wms/v2'  # The WMS URL\n",
        "tcc_layer = 'WORLDCOVER_2020_S2_TCC'  # The true color composite imagery\n",
        "fcc_layer = 'WORLDCOVER_2020_S2_FCC'  # The false color composite imagery\n",
        "map_layer = 'WORLDCOVER_2020_MAP'  # The land cover classification map\n",
        "\n",
        "Map.add_wms_layer(esa_wms, layers=tcc_layer, name='True Color', attribution='ESA')\n",
        "Map.add_wms_layer(esa_wms, layers=fcc_layer, name='False Color', attribution='ESA')\n",
        "Map.add_wms_layer(esa_wms, layers=map_layer, name='Classification', attribution='ESA')\n",
        "\n",
        "Map.add_legend(title='ESA Land Cover', builtin_legend='ESA_WorldCover')\n",
        "Map"
      ],
      "id": "olBc-KbGBKca"
    },
    {
      "cell_type": "code",
      "source": [],
      "metadata": {
        "id": "muUE2_0gCKQx"
      },
      "id": "muUE2_0gCKQx",
      "execution_count": null,
      "outputs": []
    },
    {
      "cell_type": "markdown",
      "metadata": {
        "id": "G7C1XjFMBKcb"
      },
      "source": [
        "### Using Earth Engine\n",
        "\n",
        "- [EAS WroldCover in the Earth Engine Data Catalog](https://developers.google.com/earth-engine/datasets/catalog/ESA_WorldCover_v100)"
      ],
      "id": "G7C1XjFMBKcb"
    },
    {
      "cell_type": "code",
      "execution_count": null,
      "metadata": {
        "id": "-oNiRCJ6BKcc"
      },
      "outputs": [],
      "source": [
        "Map = geemap.Map()\n",
        "Map.add_basemap('HYBRID')\n",
        "\n",
        "esa = ee.ImageCollection(\"ESA/WorldCover/v100\").first()\n",
        "esa_vis = {'bands': ['Map']}\n",
        "\n",
        "Map.addLayer(esa, esa_vis, \"ESA Land Cover\")\n",
        "Map.add_legend(title=\"ESA Land Cover\", builtin_legend='ESA_WorldCover')\n",
        "\n",
        "Map"
      ],
      "id": "-oNiRCJ6BKcc"
    },
    {
      "cell_type": "markdown",
      "metadata": {
        "id": "Jt8jm9iHBKcc"
      },
      "source": [
        "### Creating charts"
      ],
      "id": "Jt8jm9iHBKcc"
    },
    {
      "cell_type": "code",
      "execution_count": null,
      "metadata": {
        "id": "Sw1WmtzeBKcd"
      },
      "outputs": [],
      "source": [
        "histogram = geemap.image_histogram(\n",
        "    esa, scale=1000, x_label='Land Cover Type', y_label='Area (km2)'\n",
        ")\n",
        "histogram"
      ],
      "id": "Sw1WmtzeBKcd"
    },
    {
      "cell_type": "code",
      "execution_count": null,
      "metadata": {
        "id": "nDgYnVWIBKcd"
      },
      "outputs": [],
      "source": [
        "df = geemap.image_histogram(esa, scale=1000, return_df=True)\n",
        "df"
      ],
      "id": "nDgYnVWIBKcd"
    },
    {
      "cell_type": "code",
      "execution_count": null,
      "metadata": {
        "id": "5gZUoYdfBKcd"
      },
      "outputs": [],
      "source": [
        "esa_labels = list(geemap.builtin_legends['ESA_WorldCover'].keys())\n",
        "esa_labels"
      ],
      "id": "5gZUoYdfBKcd"
    },
    {
      "cell_type": "code",
      "execution_count": null,
      "metadata": {
        "id": "BpGYJcC1BKce"
      },
      "outputs": [],
      "source": [
        "df['label'] = esa_labels\n",
        "df"
      ],
      "id": "BpGYJcC1BKce"
    },
    {
      "cell_type": "code",
      "execution_count": null,
      "metadata": {
        "id": "lDJdnS13BKce"
      },
      "outputs": [],
      "source": [
        "round(df['value'].sum() / 1e6, 2)"
      ],
      "id": "lDJdnS13BKce"
    },
    {
      "cell_type": "code",
      "execution_count": null,
      "metadata": {
        "id": "LbtDwbuCBKce"
      },
      "outputs": [],
      "source": [
        "geemap.bar_chart(\n",
        "    df, x='label', y='value', x_label='Land Cover Type', y_label='Area (km2)'\n",
        ")"
      ],
      "id": "LbtDwbuCBKce"
    },
    {
      "cell_type": "code",
      "execution_count": null,
      "metadata": {
        "id": "9TxpgXpVBKcf"
      },
      "outputs": [],
      "source": [
        "geemap.pie_chart(df, names='label', values='value', height=500)"
      ],
      "id": "9TxpgXpVBKcf"
    },
    {
      "cell_type": "markdown",
      "metadata": {
        "id": "g4XtpP6YBKcf"
      },
      "source": [
        "### Adding Administrative Boundaries"
      ],
      "id": "g4XtpP6YBKcf"
    },
    {
      "cell_type": "code",
      "execution_count": null,
      "metadata": {
        "id": "nl3kOVROBKcf"
      },
      "outputs": [],
      "source": [
        "countries = ee.FeatureCollection(geemap.examples.get_ee_path('countries'))\n",
        "africa = countries.filter(ee.Filter.eq('CONTINENT', 'Africa'))\n",
        "style = {'fillColor': '00000000'}\n",
        "Map.addLayer(countries.style(**style), {}, 'Countries', False)\n",
        "Map.addLayer(africa.style(**style), {}, 'Africa')\n",
        "Map.centerObject(africa)\n",
        "Map"
      ],
      "id": "nl3kOVROBKcf"
    },
    {
      "cell_type": "markdown",
      "metadata": {
        "id": "jTKjgw71BKcf"
      },
      "source": [
        "### Extracting Croplands"
      ],
      "id": "jTKjgw71BKcf"
    },
    {
      "cell_type": "code",
      "execution_count": null,
      "metadata": {
        "id": "EC7tTLZ-BKcf"
      },
      "outputs": [],
      "source": [
        "cropland = esa.eq(40).clipToCollection(africa).selfMask()\n",
        "Map.addLayer(cropland, {'palette': ['f096ff']}, 'Cropland')\n",
        "Map.show_layer(name='ESA Land Cover', show=False)"
      ],
      "id": "EC7tTLZ-BKcf"
    },
    {
      "cell_type": "markdown",
      "metadata": {
        "id": "7RV00B0CBKcf"
      },
      "source": [
        "### Zonal Statistics"
      ],
      "id": "7RV00B0CBKcf"
    },
    {
      "cell_type": "code",
      "execution_count": null,
      "metadata": {
        "id": "_8DyQLkEBKcf"
      },
      "outputs": [],
      "source": [
        "geemap.zonal_stats(\n",
        "    cropland, africa, 'esa_cropland.csv', statistics_type='SUM', scale=1000\n",
        ")"
      ],
      "id": "_8DyQLkEBKcf"
    },
    {
      "cell_type": "code",
      "execution_count": null,
      "metadata": {
        "id": "gHZ2zKbeBKcg"
      },
      "outputs": [],
      "source": [
        "df = geemap.csv_to_df('esa_cropland.csv')\n",
        "df.head()"
      ],
      "id": "gHZ2zKbeBKcg"
    },
    {
      "cell_type": "code",
      "execution_count": null,
      "metadata": {
        "id": "T9mg-Y1gBKcg"
      },
      "outputs": [],
      "source": [
        "geemap.bar_chart(\n",
        "    df, x='NAME', y='sum', max_rows=30, x_label='Country', y_label='Area (km2)'\n",
        ")"
      ],
      "id": "T9mg-Y1gBKcg"
    },
    {
      "cell_type": "code",
      "execution_count": null,
      "metadata": {
        "id": "fmO3kSMJBKcg"
      },
      "outputs": [],
      "source": [
        "geemap.pie_chart(df, names='NAME', values='sum', max_rows=20, height=500)"
      ],
      "id": "fmO3kSMJBKcg"
    },
    {
      "cell_type": "markdown",
      "metadata": {
        "id": "yjJaPknwBKcg"
      },
      "source": [
        "## ESRI GLobal Land Cover\n",
        "\n",
        "The ESRI GLobal Land Cover dataset is a global map of land use/land cover (LULC) derived from ESA Sentinel-2 imagery at 10m resolution. Each year is generated from Impact Observatory’s deep learning AI land classification model used a massive training dataset of billions of human-labeled image pixels developed by the National Geographic Society. The global maps were produced by applying this model to the Sentinel-2 scene collection on Microsoft’s Planetary Computer, processing over 400,000 Earth observations per year.\n",
        "\n",
        "- https://livingatlas.arcgis.com/landcover/\n",
        "- https://www.arcgis.com/home/item.html?id=d3da5dd386d140cf93fc9ecbf8da5e31\n",
        "- https://samapriya.github.io/awesome-gee-community-datasets/projects/S2TSLULC/"
      ],
      "id": "yjJaPknwBKcg"
    },
    {
      "cell_type": "markdown",
      "metadata": {
        "id": "sx-sTqc8BKch"
      },
      "source": [
        "### Using Awesome GEE Community Datasets"
      ],
      "id": "sx-sTqc8BKch"
    },
    {
      "cell_type": "code",
      "execution_count": null,
      "metadata": {
        "id": "QhnAkXroBKch"
      },
      "outputs": [],
      "source": [
        "Map = geemap.Map()\n",
        "Map.add_basemap('HYBRID')\n",
        "\n",
        "esri = ee.ImageCollection(\n",
        "    'projects/sat-io/open-datasets/landcover/ESRI_Global-LULC_10m_TS'\n",
        ")\n",
        "\n",
        "esri_2017 = esri.filterDate('2017-01-01', '2017-12-31').mosaic()\n",
        "esri_2018 = esri.filterDate('2018-01-01', '2018-12-31').mosaic()\n",
        "esri_2019 = esri.filterDate('2019-01-01', '2019-12-31').mosaic()\n",
        "esri_2020 = esri.filterDate('2020-01-01', '2020-12-31').mosaic()\n",
        "esri_2021 = esri.filterDate('2021-01-01', '2021-12-31').mosaic()\n",
        "\n",
        "esri_vis = {'min': 1, 'max': 11, 'palette': 'esri_lulc'}\n",
        "\n",
        "Map.addLayer(esri_2017, esri_vis, 'ESRI LULC 2017')\n",
        "Map.addLayer(esri_2018, esri_vis, 'ESRI LULC 2018')\n",
        "Map.addLayer(esri_2019, esri_vis, 'ESRI LULC 2019')\n",
        "Map.addLayer(esri_2020, esri_vis, 'ESRI LULC 2020')\n",
        "Map.addLayer(esri_2021, esri_vis, 'ESRI LULC 2021')\n",
        "\n",
        "Map.add_legend(title='ESRI Land Cover', builtin_legend='ESRI_LandCover_TS')\n",
        "Map"
      ],
      "id": "QhnAkXroBKch"
    },
    {
      "cell_type": "markdown",
      "metadata": {
        "id": "2yJKb4a9BKch"
      },
      "source": [
        "### Using Timeseries Inspector"
      ],
      "id": "2yJKb4a9BKch"
    },
    {
      "cell_type": "code",
      "execution_count": null,
      "metadata": {
        "id": "gN3BLCplBKch"
      },
      "outputs": [],
      "source": [
        "images = ee.List([esri_2017, esri_2018, esri_2019, esri_2020, esri_2021])\n",
        "collection = ee.ImageCollection.fromImages(images)"
      ],
      "id": "gN3BLCplBKch"
    },
    {
      "cell_type": "code",
      "execution_count": null,
      "metadata": {
        "id": "qqK0sdeNBKch"
      },
      "outputs": [],
      "source": [
        "years = [str(year) for year in range(2017, 2022)]\n",
        "years"
      ],
      "id": "qqK0sdeNBKch"
    },
    {
      "cell_type": "code",
      "execution_count": null,
      "metadata": {
        "id": "FqOizJOrBKch"
      },
      "outputs": [],
      "source": [
        "Map = geemap.Map()\n",
        "Map.ts_inspector(collection, years, esri_vis, width='80px')\n",
        "Map.add_legend(title='ESRI Land Cover', builtin_legend='ESRI_LandCover_TS')\n",
        "Map"
      ],
      "id": "FqOizJOrBKch"
    },
    {
      "cell_type": "markdown",
      "metadata": {
        "id": "dvZ0sauRBKci"
      },
      "source": [
        "### Extracting Croplands"
      ],
      "id": "dvZ0sauRBKci"
    },
    {
      "cell_type": "code",
      "execution_count": null,
      "metadata": {
        "id": "qvZjSbvQBKci"
      },
      "outputs": [],
      "source": [
        "countries = ee.FeatureCollection(geemap.examples.get_ee_path('countries'))\n",
        "africa = countries.filter(ee.Filter.eq('CONTINENT', 'Africa'))"
      ],
      "id": "qvZjSbvQBKci"
    },
    {
      "cell_type": "code",
      "execution_count": null,
      "metadata": {
        "id": "f7Z15Lg5BKci"
      },
      "outputs": [],
      "source": [
        "cropland_col = collection.map(lambda img: img.eq(5).clipToCollection(africa).selfMask())\n",
        "cropland_ts = cropland_col.toBands().rename(years)"
      ],
      "id": "f7Z15Lg5BKci"
    },
    {
      "cell_type": "code",
      "execution_count": null,
      "metadata": {
        "id": "LYPAMCK4BKci"
      },
      "outputs": [],
      "source": [
        "Map = geemap.Map()\n",
        "\n",
        "style = {'fillColor': '00000000'}\n",
        "Map.addLayer(cropland_col.first(), {'palette': ['#ab6c28']}, 'first')\n",
        "Map.addLayer(countries.style(**style), {}, 'Countries', False)\n",
        "Map.addLayer(africa.style(**style), {}, 'Africa')\n",
        "Map.centerObject(africa)\n",
        "\n",
        "Map"
      ],
      "id": "LYPAMCK4BKci"
    },
    {
      "cell_type": "code",
      "execution_count": null,
      "metadata": {
        "id": "94znR1BjBKci"
      },
      "outputs": [],
      "source": [
        "cropland_ts.bandNames().getInfo()"
      ],
      "id": "94znR1BjBKci"
    },
    {
      "cell_type": "markdown",
      "metadata": {
        "id": "BzJ1qxXCBKco"
      },
      "source": [
        "### Zonal Statistics"
      ],
      "id": "BzJ1qxXCBKco"
    },
    {
      "cell_type": "code",
      "execution_count": null,
      "metadata": {
        "id": "1PlzWaWCBKco"
      },
      "outputs": [],
      "source": [
        "geemap.zonal_stats(\n",
        "    cropland_ts, africa, 'esri_cropland.csv', statistics_type='SUM', scale=1000\n",
        ")"
      ],
      "id": "1PlzWaWCBKco"
    },
    {
      "cell_type": "code",
      "execution_count": null,
      "metadata": {
        "id": "airvdOL-BKco"
      },
      "outputs": [],
      "source": [
        "df = geemap.csv_to_df('esri_cropland.csv')\n",
        "df.head()"
      ],
      "id": "airvdOL-BKco"
    },
    {
      "cell_type": "code",
      "execution_count": null,
      "metadata": {
        "id": "4NqcyuLpBKco"
      },
      "outputs": [],
      "source": [
        "geemap.bar_chart(df, x='NAME', y=years, max_rows=20, legend_title='Year')"
      ],
      "id": "4NqcyuLpBKco"
    },
    {
      "cell_type": "code",
      "execution_count": null,
      "metadata": {
        "id": "UqCh3rnoBKco"
      },
      "outputs": [],
      "source": [
        "geemap.pie_chart(df, names='NAME', values='2020', max_rows=20, height=500)"
      ],
      "id": "UqCh3rnoBKco"
    },
    {
      "cell_type": "markdown",
      "metadata": {
        "id": "Vvw5HZyBBKco"
      },
      "source": [
        "### Analyzing Cropland Gain and Loss"
      ],
      "id": "Vvw5HZyBBKco"
    },
    {
      "cell_type": "code",
      "execution_count": null,
      "metadata": {
        "id": "fd7XmNr6BKcp"
      },
      "outputs": [],
      "source": [
        "Map = geemap.Map()\n",
        "Map.add_basemap('HYBRID')\n",
        "\n",
        "cropland_2017 = esri_2017.eq(5).selfMask()\n",
        "cropland_2021 = esri_2021.eq(5).selfMask()\n",
        "\n",
        "cropland_gain = esri_2017.neq(5).And(esri_2021.eq(5)).selfMask()\n",
        "cropland_loss = esri_2017.eq(5).And(esri_2021.neq(5)).selfMask()\n",
        "\n",
        "Map.addLayer(cropland_2017, {'palette': 'brown'}, 'Cropland 2017', False)\n",
        "Map.addLayer(cropland_2021, {'palette': 'cyan'}, 'Cropland 2021', False)\n",
        "\n",
        "Map.addLayer(cropland_gain, {'palette': 'yellow'}, 'Cropland gain')\n",
        "Map.addLayer(cropland_loss, {'palette': 'red'}, 'Cropland loss')\n",
        "Map"
      ],
      "id": "fd7XmNr6BKcp"
    },
    {
      "cell_type": "code",
      "execution_count": null,
      "metadata": {
        "id": "aesNDBJlBKcp"
      },
      "outputs": [],
      "source": [
        "geemap.zonal_stats(\n",
        "    cropland_gain,\n",
        "    countries,\n",
        "    'esri_cropland_gain.csv',\n",
        "    statistics_type='SUM',\n",
        "    scale=1000,\n",
        ")"
      ],
      "id": "aesNDBJlBKcp"
    },
    {
      "cell_type": "code",
      "execution_count": null,
      "metadata": {
        "id": "DcjGqvFYBKcp"
      },
      "outputs": [],
      "source": [
        "df = geemap.csv_to_df('esri_cropland_gain.csv')\n",
        "df.head()"
      ],
      "id": "DcjGqvFYBKcp"
    },
    {
      "cell_type": "code",
      "execution_count": null,
      "metadata": {
        "id": "Df2uUbwIBKcp"
      },
      "outputs": [],
      "source": [
        "geemap.bar_chart(\n",
        "    df,\n",
        "    x='NAME',\n",
        "    y='sum',\n",
        "    max_rows=30,\n",
        "    x_label='Country',\n",
        "    y_label='Area (km2)',\n",
        "    title='Cropland Gain',\n",
        ")"
      ],
      "id": "Df2uUbwIBKcp"
    },
    {
      "cell_type": "code",
      "execution_count": null,
      "metadata": {
        "id": "vIUwZUCgBKcp"
      },
      "outputs": [],
      "source": [
        "geemap.pie_chart(\n",
        "    df, names='NAME', values='sum', max_rows=30, height=500, title='Cropland Gain'\n",
        ")"
      ],
      "id": "vIUwZUCgBKcp"
    },
    {
      "cell_type": "code",
      "execution_count": null,
      "metadata": {
        "id": "TvEF8jWbBKcp"
      },
      "outputs": [],
      "source": [
        "geemap.zonal_stats(\n",
        "    cropland_loss,\n",
        "    countries,\n",
        "    'esri_cropland_loss.csv',\n",
        "    statistics_type='SUM',\n",
        "    scale=1000,\n",
        ")"
      ],
      "id": "TvEF8jWbBKcp"
    },
    {
      "cell_type": "code",
      "execution_count": null,
      "metadata": {
        "id": "xXFchJ1vBKcq"
      },
      "outputs": [],
      "source": [
        "df = geemap.csv_to_df('esri_cropland_loss.csv')\n",
        "df.head()"
      ],
      "id": "xXFchJ1vBKcq"
    },
    {
      "cell_type": "code",
      "execution_count": null,
      "metadata": {
        "id": "CGySGTvVBKcq"
      },
      "outputs": [],
      "source": [
        "geemap.bar_chart(\n",
        "    df,\n",
        "    x='NAME',\n",
        "    y='sum',\n",
        "    max_rows=30,\n",
        "    x_label='Country',\n",
        "    y_label='Area (km2)',\n",
        "    title='Cropland Loss',\n",
        ")"
      ],
      "id": "CGySGTvVBKcq"
    },
    {
      "cell_type": "code",
      "execution_count": null,
      "metadata": {
        "id": "QFr6TsWMBKcq"
      },
      "outputs": [],
      "source": [
        "geemap.pie_chart(\n",
        "    df, names='NAME', values='sum', max_rows=30, height=500, title='Cropland Loss'\n",
        ")"
      ],
      "id": "QFr6TsWMBKcq"
    },
    {
      "cell_type": "markdown",
      "metadata": {
        "id": "9bG01bq8BKcq"
      },
      "source": [
        "## Dynamic World Land Cover\n",
        "\n",
        "Dynamic World is a near realtime 10m resolution global land use land cover dataset, produced using deep learning, freely available and openly licensed. As a result of leveraging a novel deep learning approach, based on Sentinel-2 Top of Atmosphere, Dynamic World offers global land cover updating every 2-5 days depending on location.\n",
        "\n",
        "- [Dynamic World Website](https://www.dynamicworld.app/)\n",
        "- [Dynamic World datasets on Earth Engine](https://developers.google.com/earth-engine/datasets/catalog/GOOGLE_DYNAMICWORLD_V1)"
      ],
      "id": "9bG01bq8BKcq"
    },
    {
      "cell_type": "markdown",
      "metadata": {
        "id": "EAkbCMrQBKcq"
      },
      "source": [
        "### Classification and Probability"
      ],
      "id": "EAkbCMrQBKcq"
    },
    {
      "cell_type": "code",
      "execution_count": null,
      "metadata": {
        "id": "ua30q3IhBKcq"
      },
      "outputs": [],
      "source": [
        "Map = geemap.Map()\n",
        "\n",
        "region = ee.Geometry.BBox(-179, -89, 179, 89)\n",
        "start_date = '2021-01-01'\n",
        "end_date = '2022-01-01'\n",
        "\n",
        "dw_class = geemap.dynamic_world(region, start_date, end_date, return_type='class')\n",
        "dw = geemap.dynamic_world(region, start_date, end_date, return_type='hillshade')\n",
        "\n",
        "dw_vis = {\"min\": 0, \"max\": 8, \"palette\": 'dw'}\n",
        "\n",
        "Map.addLayer(dw_class, dw_vis, 'DW Land Cover', False)\n",
        "Map.addLayer(dw, {}, 'DW Land Cover Hillshade')\n",
        "\n",
        "Map.add_legend(title=\"Dynamic World Land Cover\", builtin_legend='Dynamic_World')\n",
        "Map.setCenter(-88.9088, 43.0006, 12)\n",
        "Map"
      ],
      "id": "ua30q3IhBKcq"
    },
    {
      "cell_type": "markdown",
      "metadata": {
        "id": "FsGeRT8NBKcr"
      },
      "source": [
        "### ESA Land Cover vs. Dynamic World"
      ],
      "id": "FsGeRT8NBKcr"
    },
    {
      "cell_type": "code",
      "execution_count": null,
      "metadata": {
        "id": "Ovtauho8BKcr"
      },
      "outputs": [],
      "source": [
        "Map = geemap.Map(center=[39.3322, -106.7349], zoom=10)\n",
        "\n",
        "left_layer = geemap.ee_tile_layer(esa, esa_vis, \"ESA Land Cover\")\n",
        "right_layer = geemap.ee_tile_layer(dw, {}, \"Dynamic World Land Cover\")\n",
        "\n",
        "Map.split_map(left_layer, right_layer)\n",
        "Map.add_legend(\n",
        "    title=\"ESA Land Cover\", builtin_legend='ESA_WorldCover', position='bottomleft'\n",
        ")\n",
        "Map.add_legend(\n",
        "    title=\"Dynamic World Land Cover\",\n",
        "    builtin_legend='Dynamic_World',\n",
        "    position='bottomright',\n",
        ")\n",
        "Map.setCenter(-88.9088, 43.0006, 12)\n",
        "\n",
        "Map"
      ],
      "id": "Ovtauho8BKcr"
    },
    {
      "cell_type": "markdown",
      "metadata": {
        "id": "irnEiTZiBKcr"
      },
      "source": [
        "### ESRI Land Cover vs. Dynamic World"
      ],
      "id": "irnEiTZiBKcr"
    },
    {
      "cell_type": "code",
      "execution_count": null,
      "metadata": {
        "id": "td0j7RXiBKcr"
      },
      "outputs": [],
      "source": [
        "Map = geemap.Map(center=[-89.3998, 43.0886], zoom=10)\n",
        "\n",
        "left_layer = geemap.ee_tile_layer(esri_2021, esri_vis, \"ESRI Land Cover\")\n",
        "right_layer = geemap.ee_tile_layer(dw, {}, \"Dynamic World Land Cover\")\n",
        "\n",
        "Map.split_map(left_layer, right_layer)\n",
        "Map.add_legend(\n",
        "    title=\"ESRI Land Cover\", builtin_legend='ESRI_LandCover', position='bottomleft'\n",
        ")\n",
        "Map.add_legend(\n",
        "    title=\"Dynamic World Land Cover\",\n",
        "    builtin_legend='Dynamic_World',\n",
        "    position='bottomright',\n",
        ")\n",
        "Map.setCenter(-88.9088, 43.0006, 12)\n",
        "\n",
        "Map"
      ],
      "id": "td0j7RXiBKcr"
    }
  ],
  "metadata": {
    "kernelspec": {
      "display_name": "Python 3",
      "language": "python",
      "name": "python3"
    },
    "colab": {
      "provenance": [],
      "toc_visible": true,
      "include_colab_link": true
    },
    "widgets": {
      "application/vnd.jupyter.widget-state+json": {
        "158249092e734ac2987644312a3965f9": {
          "model_module": "jupyter-leaflet",
          "model_name": "LeafletMapModel",
          "model_module_version": "^0.18",
          "state": {
            "_dom_classes": [],
            "_model_module": "jupyter-leaflet",
            "_model_module_version": "^0.18",
            "_model_name": "LeafletMapModel",
            "_view_count": null,
            "_view_module": "jupyter-leaflet",
            "_view_module_version": "^0.18",
            "_view_name": "LeafletMapView",
            "bottom": 958,
            "bounce_at_zoom_limits": true,
            "box_zoom": true,
            "center": [
              53.96254944195083,
              -79.18945312500001
            ],
            "close_popup_on_click": true,
            "controls": [
              "IPY_MODEL_9045cd0c9feb4b23b89f844242af5a35",
              "IPY_MODEL_415820d5883b4277ae1bce187c8b0da2",
              "IPY_MODEL_4f86167984ef48de9f9884cce1a6cfa5",
              "IPY_MODEL_dc25585249da44fb820ee0a2b34131c9",
              "IPY_MODEL_d3c994191e7547c48f72e4a6bce471fb",
              "IPY_MODEL_11884336929049c3bce4e310ca67a5cb",
              "IPY_MODEL_c295760b343247468080706abfc1cf19",
              "IPY_MODEL_dbdcd26b27e94fe0bd6d5093747a0177",
              "IPY_MODEL_e0dbb5aa16bb4b5b847a227fb92e1382"
            ],
            "crs": {
              "name": "EPSG3857",
              "custom": false
            },
            "default_style": "IPY_MODEL_25c78ccd31fb4dac90b686090c62094b",
            "double_click_zoom": true,
            "dragging": true,
            "dragging_style": "IPY_MODEL_08668437fb7c4c048caa31c43ed92ecd",
            "east": 51.85546875000001,
            "fullscreen": false,
            "inertia": true,
            "inertia_deceleration": 3000,
            "inertia_max_speed": 1500,
            "interpolation": "bilinear",
            "keyboard": true,
            "keyboard_pan_offset": 80,
            "keyboard_zoom_offset": 1,
            "layers": [
              "IPY_MODEL_fd9a9143113748ed9ec57e7b542a1801",
              "IPY_MODEL_83f7140bdafe4812bdccddac6d1795a9",
              "IPY_MODEL_0010485f1bc645239dd31682399af01d",
              "IPY_MODEL_b9c05d23fbae4e60b8d60ba03241f48f"
            ],
            "layout": "IPY_MODEL_6c7d1699db074c11a7aa9daf5f5b5cd3",
            "left": -172,
            "max_zoom": 24,
            "min_zoom": null,
            "modisdate": "2023-12-14",
            "north": 75.23066741281573,
            "options": [
              "bounce_at_zoom_limits",
              "box_zoom",
              "center",
              "close_popup_on_click",
              "double_click_zoom",
              "dragging",
              "fullscreen",
              "inertia",
              "inertia_deceleration",
              "inertia_max_speed",
              "interpolation",
              "keyboard",
              "keyboard_pan_offset",
              "keyboard_zoom_offset",
              "max_zoom",
              "min_zoom",
              "prefer_canvas",
              "scroll_wheel_zoom",
              "tap",
              "tap_tolerance",
              "touch_zoom",
              "world_copy_jump",
              "zoom",
              "zoom_animation_threshold",
              "zoom_delta",
              "zoom_snap"
            ],
            "panes": {},
            "prefer_canvas": false,
            "right": 1319,
            "scroll_wheel_zoom": true,
            "south": 11.523087506868514,
            "style": "IPY_MODEL_25c78ccd31fb4dac90b686090c62094b",
            "tap": true,
            "tap_tolerance": 15,
            "top": 358,
            "touch_zoom": true,
            "west": -210.23437500000003,
            "window_url": "https://qflv26zcg7-496ff2e9c6d22116-0-colab.googleusercontent.com/outputframe.html?vrz=colab_20231213-060117_RC00_590526509",
            "world_copy_jump": false,
            "zoom": 3,
            "zoom_animation_threshold": 4,
            "zoom_delta": 1,
            "zoom_snap": 1
          }
        },
        "9045cd0c9feb4b23b89f844242af5a35": {
          "model_module": "jupyter-leaflet",
          "model_name": "LeafletWidgetControlModel",
          "model_module_version": "^0.18",
          "state": {
            "_model_module": "jupyter-leaflet",
            "_model_module_version": "^0.18",
            "_model_name": "LeafletWidgetControlModel",
            "_view_count": null,
            "_view_module": "jupyter-leaflet",
            "_view_module_version": "^0.18",
            "_view_name": "LeafletWidgetControlView",
            "max_height": null,
            "max_width": null,
            "min_height": null,
            "min_width": null,
            "options": [
              "position",
              "transparent_bg"
            ],
            "position": "topleft",
            "transparent_bg": false,
            "widget": "IPY_MODEL_3e33b72774cc46a9a6c98a8c48d721a9"
          }
        },
        "415820d5883b4277ae1bce187c8b0da2": {
          "model_module": "jupyter-leaflet",
          "model_name": "LeafletZoomControlModel",
          "model_module_version": "^0.18",
          "state": {
            "_model_module": "jupyter-leaflet",
            "_model_module_version": "^0.18",
            "_model_name": "LeafletZoomControlModel",
            "_view_count": null,
            "_view_module": "jupyter-leaflet",
            "_view_module_version": "^0.18",
            "_view_name": "LeafletZoomControlView",
            "options": [
              "position",
              "zoom_in_text",
              "zoom_in_title",
              "zoom_out_text",
              "zoom_out_title"
            ],
            "position": "topleft",
            "zoom_in_text": "+",
            "zoom_in_title": "Zoom in",
            "zoom_out_text": "-",
            "zoom_out_title": "Zoom out"
          }
        },
        "4f86167984ef48de9f9884cce1a6cfa5": {
          "model_module": "jupyter-leaflet",
          "model_name": "LeafletFullScreenControlModel",
          "model_module_version": "^0.18",
          "state": {
            "_model_module": "jupyter-leaflet",
            "_model_module_version": "^0.18",
            "_model_name": "LeafletFullScreenControlModel",
            "_view_count": null,
            "_view_module": "jupyter-leaflet",
            "_view_module_version": "^0.18",
            "_view_name": "LeafletFullScreenControlView",
            "options": [
              "position"
            ],
            "position": "topleft"
          }
        },
        "dc25585249da44fb820ee0a2b34131c9": {
          "model_module": "jupyter-leaflet",
          "model_name": "LeafletDrawControlModel",
          "model_module_version": "^0.18",
          "state": {
            "_model_module": "jupyter-leaflet",
            "_model_module_version": "^0.18",
            "_model_name": "LeafletDrawControlModel",
            "_view_count": null,
            "_view_module": "jupyter-leaflet",
            "_view_module_version": "^0.18",
            "_view_name": "LeafletDrawControlView",
            "circle": {},
            "circlemarker": {},
            "data": [],
            "edit": true,
            "marker": {
              "shapeOptions": {
                "color": "#3388ff"
              }
            },
            "options": [
              "position"
            ],
            "polygon": {
              "shapeOptions": {}
            },
            "polyline": {
              "shapeOptions": {}
            },
            "position": "topleft",
            "rectangle": {
              "shapeOptions": {
                "color": "#3388ff"
              }
            },
            "remove": true
          }
        },
        "d3c994191e7547c48f72e4a6bce471fb": {
          "model_module": "jupyter-leaflet",
          "model_name": "LeafletScaleControlModel",
          "model_module_version": "^0.18",
          "state": {
            "_model_module": "jupyter-leaflet",
            "_model_module_version": "^0.18",
            "_model_name": "LeafletScaleControlModel",
            "_view_count": null,
            "_view_module": "jupyter-leaflet",
            "_view_module_version": "^0.18",
            "_view_name": "LeafletScaleControlView",
            "imperial": true,
            "max_width": 100,
            "metric": true,
            "options": [
              "imperial",
              "max_width",
              "metric",
              "position",
              "update_when_idle"
            ],
            "position": "bottomleft",
            "update_when_idle": false
          }
        },
        "11884336929049c3bce4e310ca67a5cb": {
          "model_module": "jupyter-leaflet",
          "model_name": "LeafletMeasureControlModel",
          "model_module_version": "^0.18",
          "state": {
            "_custom_units": {},
            "_model_module": "jupyter-leaflet",
            "_model_module_version": "^0.18",
            "_model_name": "LeafletMeasureControlModel",
            "_view_count": null,
            "_view_module": "jupyter-leaflet",
            "_view_module_version": "^0.18",
            "_view_name": "LeafletMeasureControlView",
            "active_color": "orange",
            "capture_z_index": 10000,
            "completed_color": "#C8F2BE",
            "options": [
              "active_color",
              "capture_z_index",
              "completed_color",
              "popup_options",
              "position",
              "primary_area_unit",
              "primary_length_unit",
              "secondary_area_unit",
              "secondary_length_unit"
            ],
            "popup_options": {
              "className": "leaflet-measure-resultpopup",
              "autoPanPadding": [
                10,
                10
              ]
            },
            "position": "bottomleft",
            "primary_area_unit": "acres",
            "primary_length_unit": "kilometers",
            "secondary_area_unit": null,
            "secondary_length_unit": null
          }
        },
        "c295760b343247468080706abfc1cf19": {
          "model_module": "jupyter-leaflet",
          "model_name": "LeafletWidgetControlModel",
          "model_module_version": "^0.18",
          "state": {
            "_model_module": "jupyter-leaflet",
            "_model_module_version": "^0.18",
            "_model_name": "LeafletWidgetControlModel",
            "_view_count": null,
            "_view_module": "jupyter-leaflet",
            "_view_module_version": "^0.18",
            "_view_name": "LeafletWidgetControlView",
            "max_height": null,
            "max_width": null,
            "min_height": null,
            "min_width": null,
            "options": [
              "position",
              "transparent_bg"
            ],
            "position": "topright",
            "transparent_bg": false,
            "widget": "IPY_MODEL_cee2268799ce46519f748c0451885c97"
          }
        },
        "dbdcd26b27e94fe0bd6d5093747a0177": {
          "model_module": "jupyter-leaflet",
          "model_name": "LeafletAttributionControlModel",
          "model_module_version": "^0.18",
          "state": {
            "_model_module": "jupyter-leaflet",
            "_model_module_version": "^0.18",
            "_model_name": "LeafletAttributionControlModel",
            "_view_count": null,
            "_view_module": "jupyter-leaflet",
            "_view_module_version": "^0.18",
            "_view_name": "LeafletAttributionControlView",
            "options": [
              "position",
              "prefix"
            ],
            "position": "bottomright",
            "prefix": "ipyleaflet"
          }
        },
        "e0dbb5aa16bb4b5b847a227fb92e1382": {
          "model_module": "jupyter-leaflet",
          "model_name": "LeafletWidgetControlModel",
          "model_module_version": "^0.18",
          "state": {
            "_model_module": "jupyter-leaflet",
            "_model_module_version": "^0.18",
            "_model_name": "LeafletWidgetControlModel",
            "_view_count": null,
            "_view_module": "jupyter-leaflet",
            "_view_module_version": "^0.18",
            "_view_name": "LeafletWidgetControlView",
            "max_height": null,
            "max_width": null,
            "min_height": null,
            "min_width": null,
            "options": [
              "position",
              "transparent_bg"
            ],
            "position": "bottomright",
            "transparent_bg": false,
            "widget": "IPY_MODEL_5207033d987d4cbb88ac9a7acf5ffad7"
          }
        },
        "25c78ccd31fb4dac90b686090c62094b": {
          "model_module": "jupyter-leaflet",
          "model_name": "LeafletMapStyleModel",
          "model_module_version": "^0.18",
          "state": {
            "_model_module": "jupyter-leaflet",
            "_model_module_version": "^0.18",
            "_model_name": "LeafletMapStyleModel",
            "_view_count": null,
            "_view_module": "@jupyter-widgets/base",
            "_view_module_version": "1.2.0",
            "_view_name": "StyleView",
            "cursor": "grab"
          }
        },
        "08668437fb7c4c048caa31c43ed92ecd": {
          "model_module": "jupyter-leaflet",
          "model_name": "LeafletMapStyleModel",
          "model_module_version": "^0.18",
          "state": {
            "_model_module": "jupyter-leaflet",
            "_model_module_version": "^0.18",
            "_model_name": "LeafletMapStyleModel",
            "_view_count": null,
            "_view_module": "@jupyter-widgets/base",
            "_view_module_version": "1.2.0",
            "_view_name": "StyleView",
            "cursor": "move"
          }
        },
        "fd9a9143113748ed9ec57e7b542a1801": {
          "model_module": "jupyter-leaflet",
          "model_name": "LeafletTileLayerModel",
          "model_module_version": "^0.18",
          "state": {
            "_model_module": "jupyter-leaflet",
            "_model_module_version": "^0.18",
            "_model_name": "LeafletTileLayerModel",
            "_view_count": null,
            "_view_module": "jupyter-leaflet",
            "_view_module_version": "^0.18",
            "_view_name": "LeafletTileLayerView",
            "attribution": "&copy; <a href=\"https://www.openstreetmap.org/copyright\">OpenStreetMap</a> contributors",
            "base": true,
            "bottom": true,
            "bounds": null,
            "detect_retina": false,
            "loading": false,
            "max_native_zoom": null,
            "max_zoom": 19,
            "min_native_zoom": null,
            "min_zoom": 1,
            "name": "OpenStreetMap.Mapnik",
            "no_wrap": false,
            "opacity": 1,
            "options": [
              "attribution",
              "bounds",
              "detect_retina",
              "max_native_zoom",
              "max_zoom",
              "min_native_zoom",
              "min_zoom",
              "no_wrap",
              "tile_size",
              "tms",
              "zoom_offset"
            ],
            "pane": "",
            "popup": null,
            "popup_max_height": null,
            "popup_max_width": 300,
            "popup_min_width": 50,
            "show_loading": false,
            "subitems": [],
            "tile_size": 256,
            "tms": false,
            "url": "https://tile.openstreetmap.org/{z}/{x}/{y}.png",
            "visible": true,
            "zoom_offset": 0
          }
        },
        "83f7140bdafe4812bdccddac6d1795a9": {
          "model_module": "jupyter-leaflet",
          "model_name": "LeafletWMSLayerModel",
          "model_module_version": "^0.18",
          "state": {
            "_model_module": "jupyter-leaflet",
            "_model_module_version": "^0.18",
            "_model_name": "LeafletWMSLayerModel",
            "_view_count": null,
            "_view_module": "jupyter-leaflet",
            "_view_module_version": "^0.18",
            "_view_name": "LeafletWMSLayerView",
            "attribution": "ESA",
            "base": false,
            "bottom": true,
            "bounds": null,
            "crs": {
              "name": "EPSG3857",
              "custom": false
            },
            "detect_retina": false,
            "format": "image/png",
            "layers": "WORLDCOVER_2020_S2_TCC",
            "loading": false,
            "max_native_zoom": null,
            "max_zoom": 18,
            "min_native_zoom": null,
            "min_zoom": 0,
            "name": "True Color",
            "no_wrap": false,
            "opacity": 1,
            "options": [
              "attribution",
              "bounds",
              "detect_retina",
              "format",
              "layers",
              "max_native_zoom",
              "max_zoom",
              "min_native_zoom",
              "min_zoom",
              "no_wrap",
              "styles",
              "tile_size",
              "tms",
              "transparent",
              "uppercase",
              "zoom_offset"
            ],
            "pane": "",
            "popup": null,
            "popup_max_height": null,
            "popup_max_width": 300,
            "popup_min_width": 50,
            "show_loading": false,
            "styles": "",
            "subitems": [],
            "tile_size": 256,
            "tms": false,
            "transparent": true,
            "uppercase": false,
            "url": "https://services.terrascope.be/wms/v2",
            "visible": true,
            "zoom_offset": 0
          }
        },
        "0010485f1bc645239dd31682399af01d": {
          "model_module": "jupyter-leaflet",
          "model_name": "LeafletWMSLayerModel",
          "model_module_version": "^0.18",
          "state": {
            "_model_module": "jupyter-leaflet",
            "_model_module_version": "^0.18",
            "_model_name": "LeafletWMSLayerModel",
            "_view_count": null,
            "_view_module": "jupyter-leaflet",
            "_view_module_version": "^0.18",
            "_view_name": "LeafletWMSLayerView",
            "attribution": "ESA",
            "base": false,
            "bottom": true,
            "bounds": null,
            "crs": {
              "name": "EPSG3857",
              "custom": false
            },
            "detect_retina": false,
            "format": "image/png",
            "layers": "WORLDCOVER_2020_S2_FCC",
            "loading": false,
            "max_native_zoom": null,
            "max_zoom": 18,
            "min_native_zoom": null,
            "min_zoom": 0,
            "name": "False Color",
            "no_wrap": false,
            "opacity": 1,
            "options": [
              "attribution",
              "bounds",
              "detect_retina",
              "format",
              "layers",
              "max_native_zoom",
              "max_zoom",
              "min_native_zoom",
              "min_zoom",
              "no_wrap",
              "styles",
              "tile_size",
              "tms",
              "transparent",
              "uppercase",
              "zoom_offset"
            ],
            "pane": "",
            "popup": null,
            "popup_max_height": null,
            "popup_max_width": 300,
            "popup_min_width": 50,
            "show_loading": false,
            "styles": "",
            "subitems": [],
            "tile_size": 256,
            "tms": false,
            "transparent": true,
            "uppercase": false,
            "url": "https://services.terrascope.be/wms/v2",
            "visible": true,
            "zoom_offset": 0
          }
        },
        "b9c05d23fbae4e60b8d60ba03241f48f": {
          "model_module": "jupyter-leaflet",
          "model_name": "LeafletWMSLayerModel",
          "model_module_version": "^0.18",
          "state": {
            "_model_module": "jupyter-leaflet",
            "_model_module_version": "^0.18",
            "_model_name": "LeafletWMSLayerModel",
            "_view_count": null,
            "_view_module": "jupyter-leaflet",
            "_view_module_version": "^0.18",
            "_view_name": "LeafletWMSLayerView",
            "attribution": "ESA",
            "base": false,
            "bottom": true,
            "bounds": null,
            "crs": {
              "name": "EPSG3857",
              "custom": false
            },
            "detect_retina": false,
            "format": "image/png",
            "layers": "WORLDCOVER_2020_MAP",
            "loading": false,
            "max_native_zoom": null,
            "max_zoom": 18,
            "min_native_zoom": null,
            "min_zoom": 0,
            "name": "Classification",
            "no_wrap": false,
            "opacity": 1,
            "options": [
              "attribution",
              "bounds",
              "detect_retina",
              "format",
              "layers",
              "max_native_zoom",
              "max_zoom",
              "min_native_zoom",
              "min_zoom",
              "no_wrap",
              "styles",
              "tile_size",
              "tms",
              "transparent",
              "uppercase",
              "zoom_offset"
            ],
            "pane": "",
            "popup": null,
            "popup_max_height": null,
            "popup_max_width": 300,
            "popup_min_width": 50,
            "show_loading": false,
            "styles": "",
            "subitems": [],
            "tile_size": 256,
            "tms": false,
            "transparent": true,
            "uppercase": false,
            "url": "https://services.terrascope.be/wms/v2",
            "visible": true,
            "zoom_offset": 0
          }
        },
        "6c7d1699db074c11a7aa9daf5f5b5cd3": {
          "model_module": "@jupyter-widgets/base",
          "model_name": "LayoutModel",
          "model_module_version": "1.2.0",
          "state": {
            "_model_module": "@jupyter-widgets/base",
            "_model_module_version": "1.2.0",
            "_model_name": "LayoutModel",
            "_view_count": null,
            "_view_module": "@jupyter-widgets/base",
            "_view_module_version": "1.2.0",
            "_view_name": "LayoutView",
            "align_content": null,
            "align_items": null,
            "align_self": null,
            "border": null,
            "bottom": null,
            "display": null,
            "flex": null,
            "flex_flow": null,
            "grid_area": null,
            "grid_auto_columns": null,
            "grid_auto_flow": null,
            "grid_auto_rows": null,
            "grid_column": null,
            "grid_gap": null,
            "grid_row": null,
            "grid_template_areas": null,
            "grid_template_columns": null,
            "grid_template_rows": null,
            "height": "600px",
            "justify_content": null,
            "justify_items": null,
            "left": null,
            "margin": null,
            "max_height": null,
            "max_width": null,
            "min_height": null,
            "min_width": null,
            "object_fit": null,
            "object_position": null,
            "order": null,
            "overflow": null,
            "overflow_x": null,
            "overflow_y": null,
            "padding": null,
            "right": null,
            "top": null,
            "visibility": null,
            "width": null
          }
        },
        "ee9c2596a22b4916b86ae166e5d01723": {
          "model_module": "jupyter-leaflet",
          "model_name": "LeafletMapStyleModel",
          "model_module_version": "^0.18",
          "state": {
            "_model_module": "jupyter-leaflet",
            "_model_module_version": "^0.18",
            "_model_name": "LeafletMapStyleModel",
            "_view_count": null,
            "_view_module": "@jupyter-widgets/base",
            "_view_module_version": "1.2.0",
            "_view_name": "StyleView",
            "cursor": "grab"
          }
        },
        "3e33b72774cc46a9a6c98a8c48d721a9": {
          "model_module": "@jupyter-widgets/controls",
          "model_name": "HBoxModel",
          "model_module_version": "1.5.0",
          "state": {
            "_dom_classes": [
              "geemap-colab"
            ],
            "_model_module": "@jupyter-widgets/controls",
            "_model_module_version": "1.5.0",
            "_model_name": "HBoxModel",
            "_view_count": null,
            "_view_module": "@jupyter-widgets/controls",
            "_view_module_version": "1.5.0",
            "_view_name": "HBoxView",
            "box_style": "",
            "children": [
              "IPY_MODEL_3ba71262292146b8aaa3de7432879870"
            ],
            "layout": "IPY_MODEL_964e772a905941dfa5a409740c0faa7a"
          }
        },
        "cee2268799ce46519f748c0451885c97": {
          "model_module": "@jupyter-widgets/controls",
          "model_name": "VBoxModel",
          "model_module_version": "1.5.0",
          "state": {
            "_dom_classes": [
              "geemap-colab"
            ],
            "_model_module": "@jupyter-widgets/controls",
            "_model_module_version": "1.5.0",
            "_model_name": "VBoxModel",
            "_view_count": null,
            "_view_module": "@jupyter-widgets/controls",
            "_view_module_version": "1.5.0",
            "_view_name": "VBoxView",
            "box_style": "",
            "children": [
              "IPY_MODEL_36e08a2ea4184f49acf3328560167dca"
            ],
            "layout": "IPY_MODEL_bdfc49778c37463d954a5337d5f70912"
          }
        },
        "5207033d987d4cbb88ac9a7acf5ffad7": {
          "model_module": "@jupyter-widgets/controls",
          "model_name": "VBoxModel",
          "model_module_version": "1.5.0",
          "state": {
            "_dom_classes": [
              "geemap-colab"
            ],
            "_model_module": "@jupyter-widgets/controls",
            "_model_module_version": "1.5.0",
            "_model_name": "VBoxModel",
            "_view_count": null,
            "_view_module": "@jupyter-widgets/controls",
            "_view_module_version": "1.5.0",
            "_view_name": "VBoxView",
            "box_style": "",
            "children": [
              "IPY_MODEL_da90f5b9c21b420297f85c0cb202e202"
            ],
            "layout": "IPY_MODEL_e482c1c9d476446e894cfc036e92c2ff"
          }
        },
        "3ba71262292146b8aaa3de7432879870": {
          "model_module": "@jupyter-widgets/controls",
          "model_name": "ToggleButtonModel",
          "model_module_version": "1.5.0",
          "state": {
            "_dom_classes": [],
            "_model_module": "@jupyter-widgets/controls",
            "_model_module_version": "1.5.0",
            "_model_name": "ToggleButtonModel",
            "_view_count": null,
            "_view_module": "@jupyter-widgets/controls",
            "_view_module_version": "1.5.0",
            "_view_name": "ToggleButtonView",
            "button_style": "",
            "description": "",
            "description_tooltip": null,
            "disabled": false,
            "icon": "globe",
            "layout": "IPY_MODEL_0fcc1d26831b49529d3df02eeabdb38b",
            "style": "IPY_MODEL_da55c31689b14b8b9bb0c8bbf3e5abd7",
            "tooltip": "Search location/data",
            "value": false
          }
        },
        "964e772a905941dfa5a409740c0faa7a": {
          "model_module": "@jupyter-widgets/base",
          "model_name": "LayoutModel",
          "model_module_version": "1.2.0",
          "state": {
            "_model_module": "@jupyter-widgets/base",
            "_model_module_version": "1.2.0",
            "_model_name": "LayoutModel",
            "_view_count": null,
            "_view_module": "@jupyter-widgets/base",
            "_view_module_version": "1.2.0",
            "_view_name": "LayoutView",
            "align_content": null,
            "align_items": null,
            "align_self": null,
            "border": null,
            "bottom": null,
            "display": null,
            "flex": null,
            "flex_flow": null,
            "grid_area": null,
            "grid_auto_columns": null,
            "grid_auto_flow": null,
            "grid_auto_rows": null,
            "grid_column": null,
            "grid_gap": null,
            "grid_row": null,
            "grid_template_areas": null,
            "grid_template_columns": null,
            "grid_template_rows": null,
            "height": null,
            "justify_content": null,
            "justify_items": null,
            "left": null,
            "margin": null,
            "max_height": null,
            "max_width": null,
            "min_height": null,
            "min_width": null,
            "object_fit": null,
            "object_position": null,
            "order": null,
            "overflow": null,
            "overflow_x": null,
            "overflow_y": null,
            "padding": null,
            "right": null,
            "top": null,
            "visibility": null,
            "width": null
          }
        },
        "36e08a2ea4184f49acf3328560167dca": {
          "model_module": "@jupyter-widgets/controls",
          "model_name": "ToggleButtonModel",
          "model_module_version": "1.5.0",
          "state": {
            "_dom_classes": [],
            "_model_module": "@jupyter-widgets/controls",
            "_model_module_version": "1.5.0",
            "_model_name": "ToggleButtonModel",
            "_view_count": null,
            "_view_module": "@jupyter-widgets/controls",
            "_view_module_version": "1.5.0",
            "_view_name": "ToggleButtonView",
            "button_style": "",
            "description": "",
            "description_tooltip": null,
            "disabled": false,
            "icon": "wrench",
            "layout": "IPY_MODEL_b20f402181894441bbb9a820d4dba311",
            "style": "IPY_MODEL_b0edbf759e7e4a47bc6bc17d243f5db5",
            "tooltip": "Toolbar",
            "value": false
          }
        },
        "bdfc49778c37463d954a5337d5f70912": {
          "model_module": "@jupyter-widgets/base",
          "model_name": "LayoutModel",
          "model_module_version": "1.2.0",
          "state": {
            "_model_module": "@jupyter-widgets/base",
            "_model_module_version": "1.2.0",
            "_model_name": "LayoutModel",
            "_view_count": null,
            "_view_module": "@jupyter-widgets/base",
            "_view_module_version": "1.2.0",
            "_view_name": "LayoutView",
            "align_content": null,
            "align_items": null,
            "align_self": null,
            "border": null,
            "bottom": null,
            "display": null,
            "flex": null,
            "flex_flow": null,
            "grid_area": null,
            "grid_auto_columns": null,
            "grid_auto_flow": null,
            "grid_auto_rows": null,
            "grid_column": null,
            "grid_gap": null,
            "grid_row": null,
            "grid_template_areas": null,
            "grid_template_columns": null,
            "grid_template_rows": null,
            "height": null,
            "justify_content": null,
            "justify_items": null,
            "left": null,
            "margin": null,
            "max_height": null,
            "max_width": null,
            "min_height": null,
            "min_width": null,
            "object_fit": null,
            "object_position": null,
            "order": null,
            "overflow": null,
            "overflow_x": null,
            "overflow_y": null,
            "padding": null,
            "right": null,
            "top": null,
            "visibility": null,
            "width": null
          }
        },
        "da90f5b9c21b420297f85c0cb202e202": {
          "model_module": "@jupyter-widgets/controls",
          "model_name": "VBoxModel",
          "model_module_version": "1.5.0",
          "state": {
            "_dom_classes": [],
            "_model_module": "@jupyter-widgets/controls",
            "_model_module_version": "1.5.0",
            "_model_name": "VBoxModel",
            "_view_count": null,
            "_view_module": "@jupyter-widgets/controls",
            "_view_module_version": "1.5.0",
            "_view_name": "VBoxView",
            "box_style": "",
            "children": [
              "IPY_MODEL_9dbcdf666aa242fb93920113a26456f4",
              "IPY_MODEL_c70a9280b277480eab82186e5fbb5c8c"
            ],
            "layout": "IPY_MODEL_d2b7e167e5bd44dea7b3d0682b7df6c7"
          }
        },
        "e482c1c9d476446e894cfc036e92c2ff": {
          "model_module": "@jupyter-widgets/base",
          "model_name": "LayoutModel",
          "model_module_version": "1.2.0",
          "state": {
            "_model_module": "@jupyter-widgets/base",
            "_model_module_version": "1.2.0",
            "_model_name": "LayoutModel",
            "_view_count": null,
            "_view_module": "@jupyter-widgets/base",
            "_view_module_version": "1.2.0",
            "_view_name": "LayoutView",
            "align_content": null,
            "align_items": null,
            "align_self": null,
            "border": null,
            "bottom": null,
            "display": null,
            "flex": null,
            "flex_flow": null,
            "grid_area": null,
            "grid_auto_columns": null,
            "grid_auto_flow": null,
            "grid_auto_rows": null,
            "grid_column": null,
            "grid_gap": null,
            "grid_row": null,
            "grid_template_areas": null,
            "grid_template_columns": null,
            "grid_template_rows": null,
            "height": null,
            "justify_content": null,
            "justify_items": null,
            "left": null,
            "margin": null,
            "max_height": null,
            "max_width": null,
            "min_height": null,
            "min_width": null,
            "object_fit": null,
            "object_position": null,
            "order": null,
            "overflow": null,
            "overflow_x": null,
            "overflow_y": null,
            "padding": null,
            "right": null,
            "top": null,
            "visibility": null,
            "width": null
          }
        },
        "0fcc1d26831b49529d3df02eeabdb38b": {
          "model_module": "@jupyter-widgets/base",
          "model_name": "LayoutModel",
          "model_module_version": "1.2.0",
          "state": {
            "_model_module": "@jupyter-widgets/base",
            "_model_module_version": "1.2.0",
            "_model_name": "LayoutModel",
            "_view_count": null,
            "_view_module": "@jupyter-widgets/base",
            "_view_module_version": "1.2.0",
            "_view_name": "LayoutView",
            "align_content": null,
            "align_items": null,
            "align_self": null,
            "border": null,
            "bottom": null,
            "display": null,
            "flex": null,
            "flex_flow": null,
            "grid_area": null,
            "grid_auto_columns": null,
            "grid_auto_flow": null,
            "grid_auto_rows": null,
            "grid_column": null,
            "grid_gap": null,
            "grid_row": null,
            "grid_template_areas": null,
            "grid_template_columns": null,
            "grid_template_rows": null,
            "height": "28px",
            "justify_content": null,
            "justify_items": null,
            "left": null,
            "margin": null,
            "max_height": null,
            "max_width": null,
            "min_height": null,
            "min_width": null,
            "object_fit": null,
            "object_position": null,
            "order": null,
            "overflow": null,
            "overflow_x": null,
            "overflow_y": null,
            "padding": "0px 0px 0px 4px",
            "right": null,
            "top": null,
            "visibility": null,
            "width": "28px"
          }
        },
        "da55c31689b14b8b9bb0c8bbf3e5abd7": {
          "model_module": "@jupyter-widgets/controls",
          "model_name": "DescriptionStyleModel",
          "model_module_version": "1.5.0",
          "state": {
            "_model_module": "@jupyter-widgets/controls",
            "_model_module_version": "1.5.0",
            "_model_name": "DescriptionStyleModel",
            "_view_count": null,
            "_view_module": "@jupyter-widgets/base",
            "_view_module_version": "1.2.0",
            "_view_name": "StyleView",
            "description_width": ""
          }
        },
        "b20f402181894441bbb9a820d4dba311": {
          "model_module": "@jupyter-widgets/base",
          "model_name": "LayoutModel",
          "model_module_version": "1.2.0",
          "state": {
            "_model_module": "@jupyter-widgets/base",
            "_model_module_version": "1.2.0",
            "_model_name": "LayoutModel",
            "_view_count": null,
            "_view_module": "@jupyter-widgets/base",
            "_view_module_version": "1.2.0",
            "_view_name": "LayoutView",
            "align_content": null,
            "align_items": null,
            "align_self": null,
            "border": null,
            "bottom": null,
            "display": null,
            "flex": null,
            "flex_flow": null,
            "grid_area": null,
            "grid_auto_columns": null,
            "grid_auto_flow": null,
            "grid_auto_rows": null,
            "grid_column": null,
            "grid_gap": null,
            "grid_row": null,
            "grid_template_areas": null,
            "grid_template_columns": null,
            "grid_template_rows": null,
            "height": "28px",
            "justify_content": null,
            "justify_items": null,
            "left": null,
            "margin": null,
            "max_height": null,
            "max_width": null,
            "min_height": null,
            "min_width": null,
            "object_fit": null,
            "object_position": null,
            "order": null,
            "overflow": null,
            "overflow_x": null,
            "overflow_y": null,
            "padding": "0px 0px 0px 4px",
            "right": null,
            "top": null,
            "visibility": null,
            "width": "28px"
          }
        },
        "b0edbf759e7e4a47bc6bc17d243f5db5": {
          "model_module": "@jupyter-widgets/controls",
          "model_name": "DescriptionStyleModel",
          "model_module_version": "1.5.0",
          "state": {
            "_model_module": "@jupyter-widgets/controls",
            "_model_module_version": "1.5.0",
            "_model_name": "DescriptionStyleModel",
            "_view_count": null,
            "_view_module": "@jupyter-widgets/base",
            "_view_module_version": "1.2.0",
            "_view_name": "StyleView",
            "description_width": ""
          }
        },
        "9dbcdf666aa242fb93920113a26456f4": {
          "model_module": "@jupyter-widgets/controls",
          "model_name": "HBoxModel",
          "model_module_version": "1.5.0",
          "state": {
            "_dom_classes": [],
            "_model_module": "@jupyter-widgets/controls",
            "_model_module_version": "1.5.0",
            "_model_name": "HBoxModel",
            "_view_count": null,
            "_view_module": "@jupyter-widgets/controls",
            "_view_module_version": "1.5.0",
            "_view_name": "HBoxView",
            "box_style": "",
            "children": [
              "IPY_MODEL_595bcb4cbc8347ba827e4cd26dab8ecb"
            ],
            "layout": "IPY_MODEL_bb9cb724de7e4643a3003eb2d86d58bd"
          }
        },
        "c70a9280b277480eab82186e5fbb5c8c": {
          "model_module": "@jupyter-widgets/controls",
          "model_name": "VBoxModel",
          "model_module_version": "1.5.0",
          "state": {
            "_dom_classes": [],
            "_model_module": "@jupyter-widgets/controls",
            "_model_module_version": "1.5.0",
            "_model_name": "VBoxModel",
            "_view_count": null,
            "_view_module": "@jupyter-widgets/controls",
            "_view_module_version": "1.5.0",
            "_view_name": "VBoxView",
            "box_style": "",
            "children": [
              "IPY_MODEL_f6d37c0790c14d1fba53a71721377539"
            ],
            "layout": "IPY_MODEL_622536856b6c412fb643a44a30509e1a"
          }
        },
        "d2b7e167e5bd44dea7b3d0682b7df6c7": {
          "model_module": "@jupyter-widgets/base",
          "model_name": "LayoutModel",
          "model_module_version": "1.2.0",
          "state": {
            "_model_module": "@jupyter-widgets/base",
            "_model_module_version": "1.2.0",
            "_model_name": "LayoutModel",
            "_view_count": null,
            "_view_module": "@jupyter-widgets/base",
            "_view_module_version": "1.2.0",
            "_view_name": "LayoutView",
            "align_content": null,
            "align_items": null,
            "align_self": null,
            "border": null,
            "bottom": null,
            "display": null,
            "flex": null,
            "flex_flow": null,
            "grid_area": null,
            "grid_auto_columns": null,
            "grid_auto_flow": null,
            "grid_auto_rows": null,
            "grid_column": null,
            "grid_gap": null,
            "grid_row": null,
            "grid_template_areas": null,
            "grid_template_columns": null,
            "grid_template_rows": null,
            "height": null,
            "justify_content": null,
            "justify_items": null,
            "left": null,
            "margin": null,
            "max_height": null,
            "max_width": null,
            "min_height": null,
            "min_width": null,
            "object_fit": null,
            "object_position": null,
            "order": null,
            "overflow": null,
            "overflow_x": null,
            "overflow_y": null,
            "padding": null,
            "right": null,
            "top": null,
            "visibility": null,
            "width": null
          }
        },
        "595bcb4cbc8347ba827e4cd26dab8ecb": {
          "model_module": "@jupyter-widgets/controls",
          "model_name": "ToggleButtonModel",
          "model_module_version": "1.5.0",
          "state": {
            "_dom_classes": [],
            "_model_module": "@jupyter-widgets/controls",
            "_model_module_version": "1.5.0",
            "_model_name": "ToggleButtonModel",
            "_view_count": null,
            "_view_module": "@jupyter-widgets/controls",
            "_view_module_version": "1.5.0",
            "_view_name": "ToggleButtonView",
            "button_style": "",
            "description": "",
            "description_tooltip": null,
            "disabled": false,
            "icon": "bars",
            "layout": "IPY_MODEL_f276ccdf2b174c64b8853590134be015",
            "style": "IPY_MODEL_8f98c952d9934608b95f84b1d8c38c46",
            "tooltip": "Toolbar",
            "value": true
          }
        },
        "bb9cb724de7e4643a3003eb2d86d58bd": {
          "model_module": "@jupyter-widgets/base",
          "model_name": "LayoutModel",
          "model_module_version": "1.2.0",
          "state": {
            "_model_module": "@jupyter-widgets/base",
            "_model_module_version": "1.2.0",
            "_model_name": "LayoutModel",
            "_view_count": null,
            "_view_module": "@jupyter-widgets/base",
            "_view_module_version": "1.2.0",
            "_view_name": "LayoutView",
            "align_content": null,
            "align_items": null,
            "align_self": null,
            "border": null,
            "bottom": null,
            "display": null,
            "flex": null,
            "flex_flow": null,
            "grid_area": null,
            "grid_auto_columns": null,
            "grid_auto_flow": null,
            "grid_auto_rows": null,
            "grid_column": null,
            "grid_gap": null,
            "grid_row": null,
            "grid_template_areas": null,
            "grid_template_columns": null,
            "grid_template_rows": null,
            "height": null,
            "justify_content": null,
            "justify_items": null,
            "left": null,
            "margin": null,
            "max_height": null,
            "max_width": null,
            "min_height": null,
            "min_width": null,
            "object_fit": null,
            "object_position": null,
            "order": null,
            "overflow": null,
            "overflow_x": null,
            "overflow_y": null,
            "padding": null,
            "right": null,
            "top": null,
            "visibility": null,
            "width": null
          }
        },
        "f6d37c0790c14d1fba53a71721377539": {
          "model_module": "@jupyter-widgets/output",
          "model_name": "OutputModel",
          "model_module_version": "1.0.0",
          "state": {
            "_dom_classes": [],
            "_model_module": "@jupyter-widgets/output",
            "_model_module_version": "1.0.0",
            "_model_name": "OutputModel",
            "_view_count": null,
            "_view_module": "@jupyter-widgets/output",
            "_view_module_version": "1.0.0",
            "_view_name": "OutputView",
            "layout": "IPY_MODEL_bd70a61125d048049119e652e9e17b33",
            "msg_id": "",
            "outputs": [
              {
                "output_type": "display_data",
                "data": {
                  "text/plain": "HTML(value=\"<html>\\n<body>\\n  <div class='my-legend'>\\n  <div class='legend-title'>ESA Land Cover</div>\\n  <di…",
                  "application/vnd.jupyter.widget-view+json": {
                    "version_major": 2,
                    "version_minor": 0,
                    "model_id": "b338d40e5b144ba38816f52281198040"
                  }
                },
                "metadata": {
                  "application/vnd.jupyter.widget-view+json": {
                    "colab": {
                      "custom_widget_manager": {
                        "url": "https://ssl.gstatic.com/colaboratory-static/widgets/colab-cdn-widget-manager/b3e629b1971e1542/manager.min.js"
                      }
                    }
                  }
                }
              }
            ]
          }
        },
        "622536856b6c412fb643a44a30509e1a": {
          "model_module": "@jupyter-widgets/base",
          "model_name": "LayoutModel",
          "model_module_version": "1.2.0",
          "state": {
            "_model_module": "@jupyter-widgets/base",
            "_model_module_version": "1.2.0",
            "_model_name": "LayoutModel",
            "_view_count": null,
            "_view_module": "@jupyter-widgets/base",
            "_view_module_version": "1.2.0",
            "_view_name": "LayoutView",
            "align_content": null,
            "align_items": null,
            "align_self": null,
            "border": null,
            "bottom": null,
            "display": null,
            "flex": null,
            "flex_flow": null,
            "grid_area": null,
            "grid_auto_columns": null,
            "grid_auto_flow": null,
            "grid_auto_rows": null,
            "grid_column": null,
            "grid_gap": null,
            "grid_row": null,
            "grid_template_areas": null,
            "grid_template_columns": null,
            "grid_template_rows": null,
            "height": null,
            "justify_content": null,
            "justify_items": null,
            "left": null,
            "margin": null,
            "max_height": null,
            "max_width": null,
            "min_height": null,
            "min_width": null,
            "object_fit": null,
            "object_position": null,
            "order": null,
            "overflow": null,
            "overflow_x": null,
            "overflow_y": null,
            "padding": null,
            "right": null,
            "top": null,
            "visibility": null,
            "width": null
          }
        },
        "f276ccdf2b174c64b8853590134be015": {
          "model_module": "@jupyter-widgets/base",
          "model_name": "LayoutModel",
          "model_module_version": "1.2.0",
          "state": {
            "_model_module": "@jupyter-widgets/base",
            "_model_module_version": "1.2.0",
            "_model_name": "LayoutModel",
            "_view_count": null,
            "_view_module": "@jupyter-widgets/base",
            "_view_module_version": "1.2.0",
            "_view_name": "LayoutView",
            "align_content": null,
            "align_items": null,
            "align_self": null,
            "border": null,
            "bottom": null,
            "display": null,
            "flex": null,
            "flex_flow": null,
            "grid_area": null,
            "grid_auto_columns": null,
            "grid_auto_flow": null,
            "grid_auto_rows": null,
            "grid_column": null,
            "grid_gap": null,
            "grid_row": null,
            "grid_template_areas": null,
            "grid_template_columns": null,
            "grid_template_rows": null,
            "height": "28px",
            "justify_content": null,
            "justify_items": null,
            "left": null,
            "margin": null,
            "max_height": null,
            "max_width": null,
            "min_height": null,
            "min_width": null,
            "object_fit": null,
            "object_position": null,
            "order": null,
            "overflow": null,
            "overflow_x": null,
            "overflow_y": null,
            "padding": "0px 0px 0px 4px",
            "right": null,
            "top": null,
            "visibility": null,
            "width": "28px"
          }
        },
        "8f98c952d9934608b95f84b1d8c38c46": {
          "model_module": "@jupyter-widgets/controls",
          "model_name": "DescriptionStyleModel",
          "model_module_version": "1.5.0",
          "state": {
            "_model_module": "@jupyter-widgets/controls",
            "_model_module_version": "1.5.0",
            "_model_name": "DescriptionStyleModel",
            "_view_count": null,
            "_view_module": "@jupyter-widgets/base",
            "_view_module_version": "1.2.0",
            "_view_name": "StyleView",
            "description_width": ""
          }
        },
        "bd70a61125d048049119e652e9e17b33": {
          "model_module": "@jupyter-widgets/base",
          "model_name": "LayoutModel",
          "model_module_version": "1.2.0",
          "state": {
            "_model_module": "@jupyter-widgets/base",
            "_model_module_version": "1.2.0",
            "_model_name": "LayoutModel",
            "_view_count": null,
            "_view_module": "@jupyter-widgets/base",
            "_view_module_version": "1.2.0",
            "_view_name": "LayoutView",
            "align_content": null,
            "align_items": null,
            "align_self": null,
            "border": null,
            "bottom": null,
            "display": null,
            "flex": null,
            "flex_flow": null,
            "grid_area": null,
            "grid_auto_columns": null,
            "grid_auto_flow": null,
            "grid_auto_rows": null,
            "grid_column": null,
            "grid_gap": null,
            "grid_row": null,
            "grid_template_areas": null,
            "grid_template_columns": null,
            "grid_template_rows": null,
            "height": null,
            "justify_content": null,
            "justify_items": null,
            "left": null,
            "margin": null,
            "max_height": "400px",
            "max_width": "300px",
            "min_height": null,
            "min_width": null,
            "object_fit": null,
            "object_position": null,
            "order": null,
            "overflow": "scroll",
            "overflow_x": null,
            "overflow_y": null,
            "padding": null,
            "right": null,
            "top": null,
            "visibility": null,
            "width": null
          }
        },
        "b338d40e5b144ba38816f52281198040": {
          "model_module": "@jupyter-widgets/controls",
          "model_name": "HTMLModel",
          "model_module_version": "1.5.0",
          "state": {
            "_dom_classes": [],
            "_model_module": "@jupyter-widgets/controls",
            "_model_module_version": "1.5.0",
            "_model_name": "HTMLModel",
            "_view_count": null,
            "_view_module": "@jupyter-widgets/controls",
            "_view_module_version": "1.5.0",
            "_view_name": "HTMLView",
            "description": "",
            "description_tooltip": null,
            "layout": "IPY_MODEL_485be9407fa14975ac5e5798e4247b77",
            "placeholder": "​",
            "style": "IPY_MODEL_fda9b0c69ab34ab2b5b42e79556974e4",
            "value": "<html>\n<body>\n  <div class='my-legend'>\n  <div class='legend-title'>ESA Land Cover</div>\n  <div class='legend-scale'>\n    <ul class='legend-labels'>\n<li><span style='background:#006400;'></span>10 Trees</li>\n<li><span style='background:#ffbb22;'></span>20 Shrubland</li>\n<li><span style='background:#ffff4c;'></span>30 Grassland</li>\n<li><span style='background:#f096ff;'></span>40 Cropland</li>\n<li><span style='background:#fa0000;'></span>50 Built-up</li>\n<li><span style='background:#b4b4b4;'></span>60 Barren / sparse vegetation</li>\n<li><span style='background:#f0f0f0;'></span>70 Snow and ice</li>\n<li><span style='background:#0064c8;'></span>80 Open water</li>\n<li><span style='background:#0096a0;'></span>90 Herbaceous wetland</li>\n<li><span style='background:#00cf75;'></span>95 Mangroves</li>\n<li><span style='background:#fae6a0;'></span>100 Moss and lichen</li>\n    </ul>\n  </div>\n  </div>\n\n  <style type='text/css'>\n    .my-legend .legend-title {\n      text-align: left;\n      margin-bottom: 2px;\n      margin-left: 2px;\n      font-weight: bold;\n      font-size: 90%;\n      }\n    .my-legend .legend-scale ul {\n      margin: 0;\n      margin-bottom: 5px;\n      padding: 0;\n      float: left;\n      list-style: none;\n      }\n    .my-legend .legend-scale ul li {\n      font-size: 80%;\n      list-style: none;\n      margin-left: 1px;\n      line-height: 18px;\n      margin-bottom: 2px;\n      }\n    .my-legend ul.legend-labels li span {\n      display: block;\n      float: left;\n      height: 16px;\n      width: 30px;\n      margin-right: 5px;\n      margin-left: 2px;\n      border: 1px solid #999;\n      }\n    .my-legend .legend-source {\n      font-size: 70%;\n      color: #999;\n      clear: both;\n      }\n    .my-legend a {\n      color: #777;\n      }\n  </style>\n</body>\n</html>\n"
          }
        },
        "485be9407fa14975ac5e5798e4247b77": {
          "model_module": "@jupyter-widgets/base",
          "model_name": "LayoutModel",
          "model_module_version": "1.2.0",
          "state": {
            "_model_module": "@jupyter-widgets/base",
            "_model_module_version": "1.2.0",
            "_model_name": "LayoutModel",
            "_view_count": null,
            "_view_module": "@jupyter-widgets/base",
            "_view_module_version": "1.2.0",
            "_view_name": "LayoutView",
            "align_content": null,
            "align_items": null,
            "align_self": null,
            "border": null,
            "bottom": null,
            "display": null,
            "flex": null,
            "flex_flow": null,
            "grid_area": null,
            "grid_auto_columns": null,
            "grid_auto_flow": null,
            "grid_auto_rows": null,
            "grid_column": null,
            "grid_gap": null,
            "grid_row": null,
            "grid_template_areas": null,
            "grid_template_columns": null,
            "grid_template_rows": null,
            "height": null,
            "justify_content": null,
            "justify_items": null,
            "left": null,
            "margin": null,
            "max_height": null,
            "max_width": null,
            "min_height": null,
            "min_width": null,
            "object_fit": null,
            "object_position": null,
            "order": null,
            "overflow": null,
            "overflow_x": null,
            "overflow_y": null,
            "padding": null,
            "right": null,
            "top": null,
            "visibility": null,
            "width": null
          }
        },
        "fda9b0c69ab34ab2b5b42e79556974e4": {
          "model_module": "@jupyter-widgets/controls",
          "model_name": "DescriptionStyleModel",
          "model_module_version": "1.5.0",
          "state": {
            "_model_module": "@jupyter-widgets/controls",
            "_model_module_version": "1.5.0",
            "_model_name": "DescriptionStyleModel",
            "_view_count": null,
            "_view_module": "@jupyter-widgets/base",
            "_view_module_version": "1.2.0",
            "_view_name": "StyleView",
            "description_width": ""
          }
        }
      }
    }
  },
  "nbformat": 4,
  "nbformat_minor": 5
}