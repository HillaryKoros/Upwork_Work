{
  "cells": [
    {
      "cell_type": "markdown",
      "metadata": {
        "id": "view-in-github",
        "colab_type": "text"
      },
      "source": [
        "<a href=\"https://colab.research.google.com/github/HillaryKoros/Upwork_Work/blob/main/Crop_Data_Extraction.ipynb\" target=\"_parent\"><img src=\"https://colab.research.google.com/assets/colab-badge.svg\" alt=\"Open In Colab\"/></a>"
      ]
    },
    {
      "cell_type": "markdown",
      "metadata": {
        "id": "6Q1kz3UmBKcN"
      },
      "source": [
        "[![image](https://colab.research.google.com/assets/colab-badge.svg)](https://colab.research.google.com/github/gee-community/geemap/blob/master/examples/workshops/Crop_Mapping_2022.ipynb)\n",
        "[![image](https://mybinder.org/badge_logo.svg)](https://mybinder.org/v2/gh/gee-community/geemap/master?urlpath=lab%2Ftree%2Fexamples%2Fworkshops)"
      ],
      "id": "6Q1kz3UmBKcN"
    },
    {
      "cell_type": "markdown",
      "metadata": {
        "id": "nr0er4l6BKcU"
      },
      "source": [
        "**Cropland mapping with Google Earth Engine and geemap**\n",
        "\n",
        "Useful links\n",
        "\n",
        "- [Google Earth Engine](https://earthengine.google.com/)\n",
        "- [Sign up for an Earth Engine account](https://earthengine.google.com/signup/)\n",
        "- [Awesome GEE Community Datasets](https://samapriya.github.io/awesome-gee-community-datasets)\n",
        "- [Geemap website](https://geemap.org/)\n",
        "- [Geemap book](https://book.geemap.org/)\n",
        "- [Geemap YouTube videos](https://youtube.com/@giswqs)"
      ],
      "id": "nr0er4l6BKcU"
    },
    {
      "cell_type": "code",
      "execution_count": null,
      "metadata": {
        "id": "xuQCpSuaBKcW"
      },
      "outputs": [],
      "source": [
        "# !pip install geemap"
      ],
      "id": "xuQCpSuaBKcW"
    },
    {
      "cell_type": "markdown",
      "metadata": {
        "id": "pOiJkG-kBKcY"
      },
      "source": [
        "## Import libraries"
      ],
      "id": "pOiJkG-kBKcY"
    },
    {
      "cell_type": "code",
      "execution_count": null,
      "metadata": {
        "id": "JWZkJoXQBKcY"
      },
      "outputs": [],
      "source": [
        "import ee\n",
        "import geemap"
      ],
      "id": "JWZkJoXQBKcY"
    },
    {
      "cell_type": "markdown",
      "metadata": {
        "id": "fAhMYvGBBKcZ"
      },
      "source": [
        "## ESA WordCover\n",
        "\n",
        "The European Space Agency (ESA) WorldCover 10 m 2020 product provides a global land cover map for 2020 at 10 m resolution based on Sentinel-1 and Sentinel-2 data. The WorldCover product comes with 11 land cover classes and has been generated in the framework of the ESA WorldCover project, part of the 5th Earth Observation Envelope Programme (EOEP-5) of the European Space Agency.\n",
        "\n",
        "- [ESA WorldCover website](https://esa-worldcover.org/)\n",
        "- [EAS WroldCover in the Earth Engine Data Catalog](https://developers.google.com/earth-engine/datasets/catalog/ESA_WorldCover_v100)\n",
        "- [User Manual and Validation Report](https://esa-worldcover.org/en/data-access)"
      ],
      "id": "fAhMYvGBBKcZ"
    },
    {
      "cell_type": "markdown",
      "metadata": {
        "id": "fdyJZmqUBKca"
      },
      "source": [
        "### Using Web Map Services\n",
        "\n",
        "The ESA WorldCover product can also be used within other websites or GIS clients by 'Web Map Services'. These services provide a direct link to the cached images and are the best option if you simply want to map the data and produce cartographic products. They are not suitable for analysis as the data are represented only as RGB images.\n",
        "\n",
        "- WMTS: https://services.terrascope.be/wmts/v2\n",
        "- WMS: https://services.terrascope.be/wms/v2\n",
        "- Layers: WORLDCOVER_2020_MAP, WORLDCOVER_2020_S2_FCC, WORLDCOVER_2020_S2_TCC"
      ],
      "id": "fdyJZmqUBKca"
    },
    {
      "cell_type": "code",
      "execution_count": null,
      "metadata": {
        "id": "olBc-KbGBKca"
      },
      "outputs": [],
      "source": [
        "Map = geemap.Map()\n",
        "\n",
        "esa_wms = 'https://services.terrascope.be/wms/v2'  # The WMS URL\n",
        "tcc_layer = 'WORLDCOVER_2020_S2_TCC'  # The true color composite imagery\n",
        "fcc_layer = 'WORLDCOVER_2020_S2_FCC'  # The false color composite imagery\n",
        "map_layer = 'WORLDCOVER_2020_MAP'  # The land cover classification map\n",
        "\n",
        "Map.add_wms_layer(esa_wms, layers=tcc_layer, name='True Color', attribution='ESA')\n",
        "Map.add_wms_layer(esa_wms, layers=fcc_layer, name='False Color', attribution='ESA')\n",
        "Map.add_wms_layer(esa_wms, layers=map_layer, name='Classification', attribution='ESA')\n",
        "\n",
        "Map.add_legend(title='ESA Land Cover', builtin_legend='ESA_WorldCover')\n",
        "Map"
      ],
      "id": "olBc-KbGBKca"
    },
    {
      "cell_type": "markdown",
      "metadata": {
        "id": "G7C1XjFMBKcb"
      },
      "source": [
        "### Using Earth Engine\n",
        "\n",
        "- [EAS WroldCover in the Earth Engine Data Catalog](https://developers.google.com/earth-engine/datasets/catalog/ESA_WorldCover_v100)"
      ],
      "id": "G7C1XjFMBKcb"
    },
    {
      "cell_type": "code",
      "execution_count": null,
      "metadata": {
        "id": "-oNiRCJ6BKcc"
      },
      "outputs": [],
      "source": [
        "Map = geemap.Map()\n",
        "Map.add_basemap('HYBRID')\n",
        "\n",
        "esa = ee.ImageCollection(\"ESA/WorldCover/v100\").first()\n",
        "esa_vis = {'bands': ['Map']}\n",
        "\n",
        "Map.addLayer(esa, esa_vis, \"ESA Land Cover\")\n",
        "Map.add_legend(title=\"ESA Land Cover\", builtin_legend='ESA_WorldCover')\n",
        "\n",
        "Map"
      ],
      "id": "-oNiRCJ6BKcc"
    },
    {
      "cell_type": "markdown",
      "metadata": {
        "id": "Jt8jm9iHBKcc"
      },
      "source": [
        "### Creating charts"
      ],
      "id": "Jt8jm9iHBKcc"
    },
    {
      "cell_type": "code",
      "execution_count": null,
      "metadata": {
        "id": "Sw1WmtzeBKcd"
      },
      "outputs": [],
      "source": [
        "histogram = geemap.image_histogram(\n",
        "    esa, scale=1000, x_label='Land Cover Type', y_label='Area (km2)'\n",
        ")\n",
        "histogram"
      ],
      "id": "Sw1WmtzeBKcd"
    },
    {
      "cell_type": "code",
      "execution_count": null,
      "metadata": {
        "id": "nDgYnVWIBKcd"
      },
      "outputs": [],
      "source": [
        "df = geemap.image_histogram(esa, scale=1000, return_df=True)\n",
        "df"
      ],
      "id": "nDgYnVWIBKcd"
    },
    {
      "cell_type": "code",
      "execution_count": null,
      "metadata": {
        "id": "5gZUoYdfBKcd"
      },
      "outputs": [],
      "source": [
        "esa_labels = list(geemap.builtin_legends['ESA_WorldCover'].keys())\n",
        "esa_labels"
      ],
      "id": "5gZUoYdfBKcd"
    },
    {
      "cell_type": "code",
      "execution_count": null,
      "metadata": {
        "id": "BpGYJcC1BKce"
      },
      "outputs": [],
      "source": [
        "df['label'] = esa_labels\n",
        "df"
      ],
      "id": "BpGYJcC1BKce"
    },
    {
      "cell_type": "code",
      "execution_count": null,
      "metadata": {
        "id": "lDJdnS13BKce"
      },
      "outputs": [],
      "source": [
        "round(df['value'].sum() / 1e6, 2)"
      ],
      "id": "lDJdnS13BKce"
    },
    {
      "cell_type": "code",
      "execution_count": null,
      "metadata": {
        "id": "LbtDwbuCBKce"
      },
      "outputs": [],
      "source": [
        "geemap.bar_chart(\n",
        "    df, x='label', y='value', x_label='Land Cover Type', y_label='Area (km2)'\n",
        ")"
      ],
      "id": "LbtDwbuCBKce"
    },
    {
      "cell_type": "code",
      "execution_count": null,
      "metadata": {
        "id": "9TxpgXpVBKcf"
      },
      "outputs": [],
      "source": [
        "geemap.pie_chart(df, names='label', values='value', height=500)"
      ],
      "id": "9TxpgXpVBKcf"
    },
    {
      "cell_type": "markdown",
      "metadata": {
        "id": "g4XtpP6YBKcf"
      },
      "source": [
        "### Adding Administrative Boundaries"
      ],
      "id": "g4XtpP6YBKcf"
    },
    {
      "cell_type": "code",
      "execution_count": null,
      "metadata": {
        "id": "nl3kOVROBKcf"
      },
      "outputs": [],
      "source": [
        "countries = ee.FeatureCollection(geemap.examples.get_ee_path('countries'))\n",
        "africa = countries.filter(ee.Filter.eq('CONTINENT', 'Africa'))\n",
        "style = {'fillColor': '00000000'}\n",
        "Map.addLayer(countries.style(**style), {}, 'Countries', False)\n",
        "Map.addLayer(africa.style(**style), {}, 'Africa')\n",
        "Map.centerObject(africa)\n",
        "Map"
      ],
      "id": "nl3kOVROBKcf"
    },
    {
      "cell_type": "markdown",
      "metadata": {
        "id": "jTKjgw71BKcf"
      },
      "source": [
        "### Extracting Croplands"
      ],
      "id": "jTKjgw71BKcf"
    },
    {
      "cell_type": "code",
      "execution_count": null,
      "metadata": {
        "id": "EC7tTLZ-BKcf"
      },
      "outputs": [],
      "source": [
        "cropland = esa.eq(40).clipToCollection(africa).selfMask()\n",
        "Map.addLayer(cropland, {'palette': ['f096ff']}, 'Cropland')\n",
        "Map.show_layer(name='ESA Land Cover', show=False)"
      ],
      "id": "EC7tTLZ-BKcf"
    },
    {
      "cell_type": "markdown",
      "metadata": {
        "id": "7RV00B0CBKcf"
      },
      "source": [
        "### Zonal Statistics"
      ],
      "id": "7RV00B0CBKcf"
    },
    {
      "cell_type": "code",
      "execution_count": null,
      "metadata": {
        "id": "_8DyQLkEBKcf"
      },
      "outputs": [],
      "source": [
        "geemap.zonal_stats(\n",
        "    cropland, africa, 'esa_cropland.csv', statistics_type='SUM', scale=1000\n",
        ")"
      ],
      "id": "_8DyQLkEBKcf"
    },
    {
      "cell_type": "code",
      "execution_count": null,
      "metadata": {
        "id": "gHZ2zKbeBKcg"
      },
      "outputs": [],
      "source": [
        "df = geemap.csv_to_df('esa_cropland.csv')\n",
        "df.head()"
      ],
      "id": "gHZ2zKbeBKcg"
    },
    {
      "cell_type": "code",
      "execution_count": null,
      "metadata": {
        "id": "T9mg-Y1gBKcg"
      },
      "outputs": [],
      "source": [
        "geemap.bar_chart(\n",
        "    df, x='NAME', y='sum', max_rows=30, x_label='Country', y_label='Area (km2)'\n",
        ")"
      ],
      "id": "T9mg-Y1gBKcg"
    },
    {
      "cell_type": "code",
      "execution_count": null,
      "metadata": {
        "id": "fmO3kSMJBKcg"
      },
      "outputs": [],
      "source": [
        "geemap.pie_chart(df, names='NAME', values='sum', max_rows=20, height=500)"
      ],
      "id": "fmO3kSMJBKcg"
    },
    {
      "cell_type": "markdown",
      "metadata": {
        "id": "yjJaPknwBKcg"
      },
      "source": [
        "## ESRI GLobal Land Cover\n",
        "\n",
        "The ESRI GLobal Land Cover dataset is a global map of land use/land cover (LULC) derived from ESA Sentinel-2 imagery at 10m resolution. Each year is generated from Impact Observatory’s deep learning AI land classification model used a massive training dataset of billions of human-labeled image pixels developed by the National Geographic Society. The global maps were produced by applying this model to the Sentinel-2 scene collection on Microsoft’s Planetary Computer, processing over 400,000 Earth observations per year.\n",
        "\n",
        "- https://livingatlas.arcgis.com/landcover/\n",
        "- https://www.arcgis.com/home/item.html?id=d3da5dd386d140cf93fc9ecbf8da5e31\n",
        "- https://samapriya.github.io/awesome-gee-community-datasets/projects/S2TSLULC/"
      ],
      "id": "yjJaPknwBKcg"
    },
    {
      "cell_type": "markdown",
      "metadata": {
        "id": "sx-sTqc8BKch"
      },
      "source": [
        "### Using Awesome GEE Community Datasets"
      ],
      "id": "sx-sTqc8BKch"
    },
    {
      "cell_type": "code",
      "execution_count": null,
      "metadata": {
        "id": "QhnAkXroBKch"
      },
      "outputs": [],
      "source": [
        "Map = geemap.Map()\n",
        "Map.add_basemap('HYBRID')\n",
        "\n",
        "esri = ee.ImageCollection(\n",
        "    'projects/sat-io/open-datasets/landcover/ESRI_Global-LULC_10m_TS'\n",
        ")\n",
        "\n",
        "esri_2017 = esri.filterDate('2017-01-01', '2017-12-31').mosaic()\n",
        "esri_2018 = esri.filterDate('2018-01-01', '2018-12-31').mosaic()\n",
        "esri_2019 = esri.filterDate('2019-01-01', '2019-12-31').mosaic()\n",
        "esri_2020 = esri.filterDate('2020-01-01', '2020-12-31').mosaic()\n",
        "esri_2021 = esri.filterDate('2021-01-01', '2021-12-31').mosaic()\n",
        "\n",
        "esri_vis = {'min': 1, 'max': 11, 'palette': 'esri_lulc'}\n",
        "\n",
        "Map.addLayer(esri_2017, esri_vis, 'ESRI LULC 2017')\n",
        "Map.addLayer(esri_2018, esri_vis, 'ESRI LULC 2018')\n",
        "Map.addLayer(esri_2019, esri_vis, 'ESRI LULC 2019')\n",
        "Map.addLayer(esri_2020, esri_vis, 'ESRI LULC 2020')\n",
        "Map.addLayer(esri_2021, esri_vis, 'ESRI LULC 2021')\n",
        "\n",
        "Map.add_legend(title='ESRI Land Cover', builtin_legend='ESRI_LandCover_TS')\n",
        "Map"
      ],
      "id": "QhnAkXroBKch"
    },
    {
      "cell_type": "markdown",
      "metadata": {
        "id": "2yJKb4a9BKch"
      },
      "source": [
        "### Using Timeseries Inspector"
      ],
      "id": "2yJKb4a9BKch"
    },
    {
      "cell_type": "code",
      "execution_count": null,
      "metadata": {
        "id": "gN3BLCplBKch"
      },
      "outputs": [],
      "source": [
        "images = ee.List([esri_2017, esri_2018, esri_2019, esri_2020, esri_2021])\n",
        "collection = ee.ImageCollection.fromImages(images)"
      ],
      "id": "gN3BLCplBKch"
    },
    {
      "cell_type": "code",
      "execution_count": null,
      "metadata": {
        "id": "qqK0sdeNBKch"
      },
      "outputs": [],
      "source": [
        "years = [str(year) for year in range(2017, 2022)]\n",
        "years"
      ],
      "id": "qqK0sdeNBKch"
    },
    {
      "cell_type": "code",
      "execution_count": null,
      "metadata": {
        "id": "FqOizJOrBKch"
      },
      "outputs": [],
      "source": [
        "Map = geemap.Map()\n",
        "Map.ts_inspector(collection, years, esri_vis, width='80px')\n",
        "Map.add_legend(title='ESRI Land Cover', builtin_legend='ESRI_LandCover_TS')\n",
        "Map"
      ],
      "id": "FqOizJOrBKch"
    },
    {
      "cell_type": "markdown",
      "metadata": {
        "id": "dvZ0sauRBKci"
      },
      "source": [
        "### Extracting Croplands"
      ],
      "id": "dvZ0sauRBKci"
    },
    {
      "cell_type": "code",
      "execution_count": null,
      "metadata": {
        "id": "qvZjSbvQBKci"
      },
      "outputs": [],
      "source": [
        "countries = ee.FeatureCollection(geemap.examples.get_ee_path('countries'))\n",
        "africa = countries.filter(ee.Filter.eq('CONTINENT', 'Africa'))"
      ],
      "id": "qvZjSbvQBKci"
    },
    {
      "cell_type": "code",
      "execution_count": null,
      "metadata": {
        "id": "f7Z15Lg5BKci"
      },
      "outputs": [],
      "source": [
        "cropland_col = collection.map(lambda img: img.eq(5).clipToCollection(africa).selfMask())\n",
        "cropland_ts = cropland_col.toBands().rename(years)"
      ],
      "id": "f7Z15Lg5BKci"
    },
    {
      "cell_type": "code",
      "execution_count": null,
      "metadata": {
        "id": "LYPAMCK4BKci"
      },
      "outputs": [],
      "source": [
        "Map = geemap.Map()\n",
        "\n",
        "style = {'fillColor': '00000000'}\n",
        "Map.addLayer(cropland_col.first(), {'palette': ['#ab6c28']}, 'first')\n",
        "Map.addLayer(countries.style(**style), {}, 'Countries', False)\n",
        "Map.addLayer(africa.style(**style), {}, 'Africa')\n",
        "Map.centerObject(africa)\n",
        "\n",
        "Map"
      ],
      "id": "LYPAMCK4BKci"
    },
    {
      "cell_type": "code",
      "execution_count": null,
      "metadata": {
        "id": "94znR1BjBKci"
      },
      "outputs": [],
      "source": [
        "cropland_ts.bandNames().getInfo()"
      ],
      "id": "94znR1BjBKci"
    },
    {
      "cell_type": "markdown",
      "metadata": {
        "id": "BzJ1qxXCBKco"
      },
      "source": [
        "### Zonal Statistics"
      ],
      "id": "BzJ1qxXCBKco"
    },
    {
      "cell_type": "code",
      "execution_count": null,
      "metadata": {
        "id": "1PlzWaWCBKco"
      },
      "outputs": [],
      "source": [
        "geemap.zonal_stats(\n",
        "    cropland_ts, africa, 'esri_cropland.csv', statistics_type='SUM', scale=1000\n",
        ")"
      ],
      "id": "1PlzWaWCBKco"
    },
    {
      "cell_type": "code",
      "execution_count": null,
      "metadata": {
        "id": "airvdOL-BKco"
      },
      "outputs": [],
      "source": [
        "df = geemap.csv_to_df('esri_cropland.csv')\n",
        "df.head()"
      ],
      "id": "airvdOL-BKco"
    },
    {
      "cell_type": "code",
      "execution_count": null,
      "metadata": {
        "id": "4NqcyuLpBKco"
      },
      "outputs": [],
      "source": [
        "geemap.bar_chart(df, x='NAME', y=years, max_rows=20, legend_title='Year')"
      ],
      "id": "4NqcyuLpBKco"
    },
    {
      "cell_type": "code",
      "execution_count": null,
      "metadata": {
        "id": "UqCh3rnoBKco"
      },
      "outputs": [],
      "source": [
        "geemap.pie_chart(df, names='NAME', values='2020', max_rows=20, height=500)"
      ],
      "id": "UqCh3rnoBKco"
    },
    {
      "cell_type": "markdown",
      "metadata": {
        "id": "Vvw5HZyBBKco"
      },
      "source": [
        "### Analyzing Cropland Gain and Loss"
      ],
      "id": "Vvw5HZyBBKco"
    },
    {
      "cell_type": "code",
      "execution_count": null,
      "metadata": {
        "id": "fd7XmNr6BKcp"
      },
      "outputs": [],
      "source": [
        "Map = geemap.Map()\n",
        "Map.add_basemap('HYBRID')\n",
        "\n",
        "cropland_2017 = esri_2017.eq(5).selfMask()\n",
        "cropland_2021 = esri_2021.eq(5).selfMask()\n",
        "\n",
        "cropland_gain = esri_2017.neq(5).And(esri_2021.eq(5)).selfMask()\n",
        "cropland_loss = esri_2017.eq(5).And(esri_2021.neq(5)).selfMask()\n",
        "\n",
        "Map.addLayer(cropland_2017, {'palette': 'brown'}, 'Cropland 2017', False)\n",
        "Map.addLayer(cropland_2021, {'palette': 'cyan'}, 'Cropland 2021', False)\n",
        "\n",
        "Map.addLayer(cropland_gain, {'palette': 'yellow'}, 'Cropland gain')\n",
        "Map.addLayer(cropland_loss, {'palette': 'red'}, 'Cropland loss')\n",
        "Map"
      ],
      "id": "fd7XmNr6BKcp"
    },
    {
      "cell_type": "code",
      "execution_count": null,
      "metadata": {
        "id": "aesNDBJlBKcp"
      },
      "outputs": [],
      "source": [
        "geemap.zonal_stats(\n",
        "    cropland_gain,\n",
        "    countries,\n",
        "    'esri_cropland_gain.csv',\n",
        "    statistics_type='SUM',\n",
        "    scale=1000,\n",
        ")"
      ],
      "id": "aesNDBJlBKcp"
    },
    {
      "cell_type": "code",
      "execution_count": null,
      "metadata": {
        "id": "DcjGqvFYBKcp"
      },
      "outputs": [],
      "source": [
        "df = geemap.csv_to_df('esri_cropland_gain.csv')\n",
        "df.head()"
      ],
      "id": "DcjGqvFYBKcp"
    },
    {
      "cell_type": "code",
      "execution_count": null,
      "metadata": {
        "id": "Df2uUbwIBKcp"
      },
      "outputs": [],
      "source": [
        "geemap.bar_chart(\n",
        "    df,\n",
        "    x='NAME',\n",
        "    y='sum',\n",
        "    max_rows=30,\n",
        "    x_label='Country',\n",
        "    y_label='Area (km2)',\n",
        "    title='Cropland Gain',\n",
        ")"
      ],
      "id": "Df2uUbwIBKcp"
    },
    {
      "cell_type": "code",
      "execution_count": null,
      "metadata": {
        "id": "vIUwZUCgBKcp"
      },
      "outputs": [],
      "source": [
        "geemap.pie_chart(\n",
        "    df, names='NAME', values='sum', max_rows=30, height=500, title='Cropland Gain'\n",
        ")"
      ],
      "id": "vIUwZUCgBKcp"
    },
    {
      "cell_type": "code",
      "execution_count": null,
      "metadata": {
        "id": "TvEF8jWbBKcp"
      },
      "outputs": [],
      "source": [
        "geemap.zonal_stats(\n",
        "    cropland_loss,\n",
        "    countries,\n",
        "    'esri_cropland_loss.csv',\n",
        "    statistics_type='SUM',\n",
        "    scale=1000,\n",
        ")"
      ],
      "id": "TvEF8jWbBKcp"
    },
    {
      "cell_type": "code",
      "execution_count": null,
      "metadata": {
        "id": "xXFchJ1vBKcq"
      },
      "outputs": [],
      "source": [
        "df = geemap.csv_to_df('esri_cropland_loss.csv')\n",
        "df.head()"
      ],
      "id": "xXFchJ1vBKcq"
    },
    {
      "cell_type": "code",
      "execution_count": null,
      "metadata": {
        "id": "CGySGTvVBKcq"
      },
      "outputs": [],
      "source": [
        "geemap.bar_chart(\n",
        "    df,\n",
        "    x='NAME',\n",
        "    y='sum',\n",
        "    max_rows=30,\n",
        "    x_label='Country',\n",
        "    y_label='Area (km2)',\n",
        "    title='Cropland Loss',\n",
        ")"
      ],
      "id": "CGySGTvVBKcq"
    },
    {
      "cell_type": "code",
      "execution_count": null,
      "metadata": {
        "id": "QFr6TsWMBKcq"
      },
      "outputs": [],
      "source": [
        "geemap.pie_chart(\n",
        "    df, names='NAME', values='sum', max_rows=30, height=500, title='Cropland Loss'\n",
        ")"
      ],
      "id": "QFr6TsWMBKcq"
    },
    {
      "cell_type": "markdown",
      "metadata": {
        "id": "9bG01bq8BKcq"
      },
      "source": [
        "## Dynamic World Land Cover\n",
        "\n",
        "Dynamic World is a near realtime 10m resolution global land use land cover dataset, produced using deep learning, freely available and openly licensed. As a result of leveraging a novel deep learning approach, based on Sentinel-2 Top of Atmosphere, Dynamic World offers global land cover updating every 2-5 days depending on location.\n",
        "\n",
        "- [Dynamic World Website](https://www.dynamicworld.app/)\n",
        "- [Dynamic World datasets on Earth Engine](https://developers.google.com/earth-engine/datasets/catalog/GOOGLE_DYNAMICWORLD_V1)"
      ],
      "id": "9bG01bq8BKcq"
    },
    {
      "cell_type": "markdown",
      "metadata": {
        "id": "EAkbCMrQBKcq"
      },
      "source": [
        "### Classification and Probability"
      ],
      "id": "EAkbCMrQBKcq"
    },
    {
      "cell_type": "code",
      "execution_count": null,
      "metadata": {
        "id": "ua30q3IhBKcq"
      },
      "outputs": [],
      "source": [
        "Map = geemap.Map()\n",
        "\n",
        "region = ee.Geometry.BBox(-179, -89, 179, 89)\n",
        "start_date = '2021-01-01'\n",
        "end_date = '2022-01-01'\n",
        "\n",
        "dw_class = geemap.dynamic_world(region, start_date, end_date, return_type='class')\n",
        "dw = geemap.dynamic_world(region, start_date, end_date, return_type='hillshade')\n",
        "\n",
        "dw_vis = {\"min\": 0, \"max\": 8, \"palette\": 'dw'}\n",
        "\n",
        "Map.addLayer(dw_class, dw_vis, 'DW Land Cover', False)\n",
        "Map.addLayer(dw, {}, 'DW Land Cover Hillshade')\n",
        "\n",
        "Map.add_legend(title=\"Dynamic World Land Cover\", builtin_legend='Dynamic_World')\n",
        "Map.setCenter(-88.9088, 43.0006, 12)\n",
        "Map"
      ],
      "id": "ua30q3IhBKcq"
    },
    {
      "cell_type": "markdown",
      "metadata": {
        "id": "FsGeRT8NBKcr"
      },
      "source": [
        "### ESA Land Cover vs. Dynamic World"
      ],
      "id": "FsGeRT8NBKcr"
    },
    {
      "cell_type": "code",
      "execution_count": null,
      "metadata": {
        "id": "Ovtauho8BKcr"
      },
      "outputs": [],
      "source": [
        "Map = geemap.Map(center=[39.3322, -106.7349], zoom=10)\n",
        "\n",
        "left_layer = geemap.ee_tile_layer(esa, esa_vis, \"ESA Land Cover\")\n",
        "right_layer = geemap.ee_tile_layer(dw, {}, \"Dynamic World Land Cover\")\n",
        "\n",
        "Map.split_map(left_layer, right_layer)\n",
        "Map.add_legend(\n",
        "    title=\"ESA Land Cover\", builtin_legend='ESA_WorldCover', position='bottomleft'\n",
        ")\n",
        "Map.add_legend(\n",
        "    title=\"Dynamic World Land Cover\",\n",
        "    builtin_legend='Dynamic_World',\n",
        "    position='bottomright',\n",
        ")\n",
        "Map.setCenter(-88.9088, 43.0006, 12)\n",
        "\n",
        "Map"
      ],
      "id": "Ovtauho8BKcr"
    },
    {
      "cell_type": "markdown",
      "metadata": {
        "id": "irnEiTZiBKcr"
      },
      "source": [
        "### ESRI Land Cover vs. Dynamic World"
      ],
      "id": "irnEiTZiBKcr"
    },
    {
      "cell_type": "code",
      "execution_count": null,
      "metadata": {
        "id": "td0j7RXiBKcr"
      },
      "outputs": [],
      "source": [
        "Map = geemap.Map(center=[-89.3998, 43.0886], zoom=10)\n",
        "\n",
        "left_layer = geemap.ee_tile_layer(esri_2021, esri_vis, \"ESRI Land Cover\")\n",
        "right_layer = geemap.ee_tile_layer(dw, {}, \"Dynamic World Land Cover\")\n",
        "\n",
        "Map.split_map(left_layer, right_layer)\n",
        "Map.add_legend(\n",
        "    title=\"ESRI Land Cover\", builtin_legend='ESRI_LandCover', position='bottomleft'\n",
        ")\n",
        "Map.add_legend(\n",
        "    title=\"Dynamic World Land Cover\",\n",
        "    builtin_legend='Dynamic_World',\n",
        "    position='bottomright',\n",
        ")\n",
        "Map.setCenter(-88.9088, 43.0006, 12)\n",
        "\n",
        "Map"
      ],
      "id": "td0j7RXiBKcr"
    }
  ],
  "metadata": {
    "kernelspec": {
      "display_name": "Python 3",
      "language": "python",
      "name": "python3"
    },
    "colab": {
      "provenance": [],
      "toc_visible": true,
      "include_colab_link": true
    }
  },
  "nbformat": 4,
  "nbformat_minor": 5
}